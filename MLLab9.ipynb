{
  "nbformat": 4,
  "nbformat_minor": 0,
  "metadata": {
    "colab": {
      "name": "MLLab9.ipynb",
      "provenance": [],
      "authorship_tag": "ABX9TyNee30FZQVLnIkHMsiveP/r"
    },
    "kernelspec": {
      "name": "python3",
      "display_name": "Python 3"
    },
    "language_info": {
      "name": "python"
    }
  },
  "cells": [
    {
      "cell_type": "markdown",
      "metadata": {
        "id": "DVPVxZ-t3HLT"
      },
      "source": [
        "A1. For the data table provided below, calculate the entropy associated with each attribute / feature \n",
        "at the root node. Using this information, identify the first feature that you’d select for constructing \n",
        "the decision tree."
      ]
    },
    {
      "cell_type": "code",
      "metadata": {
        "colab": {
          "base_uri": "https://localhost:8080/",
          "height": 488
        },
        "id": "NXwn4HcvQibj",
        "outputId": "6cbb035d-30df-4d52-a5ff-e55582fc64af"
      },
      "source": [
        "import pandas as pd\n",
        "df=pd.read_csv(\"Decision_tree.csv\")\n",
        "df\n"
      ],
      "execution_count": null,
      "outputs": [
        {
          "output_type": "execute_result",
          "data": {
            "text/html": [
              "<div>\n",
              "<style scoped>\n",
              "    .dataframe tbody tr th:only-of-type {\n",
              "        vertical-align: middle;\n",
              "    }\n",
              "\n",
              "    .dataframe tbody tr th {\n",
              "        vertical-align: top;\n",
              "    }\n",
              "\n",
              "    .dataframe thead th {\n",
              "        text-align: right;\n",
              "    }\n",
              "</style>\n",
              "<table border=\"1\" class=\"dataframe\">\n",
              "  <thead>\n",
              "    <tr style=\"text-align: right;\">\n",
              "      <th></th>\n",
              "      <th>age</th>\n",
              "      <th>income</th>\n",
              "      <th>student</th>\n",
              "      <th>credit_rating</th>\n",
              "      <th>buys_computer</th>\n",
              "      <th>Unnamed: 5</th>\n",
              "    </tr>\n",
              "  </thead>\n",
              "  <tbody>\n",
              "    <tr>\n",
              "      <th>0</th>\n",
              "      <td>&lt;=30</td>\n",
              "      <td>high</td>\n",
              "      <td>no</td>\n",
              "      <td>fair</td>\n",
              "      <td>no</td>\n",
              "      <td>NaN</td>\n",
              "    </tr>\n",
              "    <tr>\n",
              "      <th>1</th>\n",
              "      <td>&lt;=30</td>\n",
              "      <td>high</td>\n",
              "      <td>no</td>\n",
              "      <td>excellent</td>\n",
              "      <td>no</td>\n",
              "      <td>NaN</td>\n",
              "    </tr>\n",
              "    <tr>\n",
              "      <th>2</th>\n",
              "      <td>31..40</td>\n",
              "      <td>high</td>\n",
              "      <td>no</td>\n",
              "      <td>fair</td>\n",
              "      <td>yes</td>\n",
              "      <td>NaN</td>\n",
              "    </tr>\n",
              "    <tr>\n",
              "      <th>3</th>\n",
              "      <td>&gt;40</td>\n",
              "      <td>medium</td>\n",
              "      <td>no</td>\n",
              "      <td>fair</td>\n",
              "      <td>yes</td>\n",
              "      <td>NaN</td>\n",
              "    </tr>\n",
              "    <tr>\n",
              "      <th>4</th>\n",
              "      <td>&gt;40</td>\n",
              "      <td>low</td>\n",
              "      <td>yes</td>\n",
              "      <td>fair</td>\n",
              "      <td>yes</td>\n",
              "      <td>NaN</td>\n",
              "    </tr>\n",
              "    <tr>\n",
              "      <th>5</th>\n",
              "      <td>&gt;40</td>\n",
              "      <td>low</td>\n",
              "      <td>yes</td>\n",
              "      <td>excellent</td>\n",
              "      <td>no</td>\n",
              "      <td>NaN</td>\n",
              "    </tr>\n",
              "    <tr>\n",
              "      <th>6</th>\n",
              "      <td>31..40</td>\n",
              "      <td>low</td>\n",
              "      <td>yes</td>\n",
              "      <td>excellent</td>\n",
              "      <td>yes</td>\n",
              "      <td>NaN</td>\n",
              "    </tr>\n",
              "    <tr>\n",
              "      <th>7</th>\n",
              "      <td>&lt;=30</td>\n",
              "      <td>medium</td>\n",
              "      <td>no</td>\n",
              "      <td>fair</td>\n",
              "      <td>no</td>\n",
              "      <td>NaN</td>\n",
              "    </tr>\n",
              "    <tr>\n",
              "      <th>8</th>\n",
              "      <td>&lt;=30</td>\n",
              "      <td>low</td>\n",
              "      <td>yes</td>\n",
              "      <td>fair</td>\n",
              "      <td>yes</td>\n",
              "      <td>NaN</td>\n",
              "    </tr>\n",
              "    <tr>\n",
              "      <th>9</th>\n",
              "      <td>&gt;40</td>\n",
              "      <td>medium</td>\n",
              "      <td>yes</td>\n",
              "      <td>fair</td>\n",
              "      <td>yes</td>\n",
              "      <td>NaN</td>\n",
              "    </tr>\n",
              "    <tr>\n",
              "      <th>10</th>\n",
              "      <td>&lt;=30</td>\n",
              "      <td>medium</td>\n",
              "      <td>yes</td>\n",
              "      <td>excellent</td>\n",
              "      <td>yes</td>\n",
              "      <td>NaN</td>\n",
              "    </tr>\n",
              "    <tr>\n",
              "      <th>11</th>\n",
              "      <td>31..40</td>\n",
              "      <td>medium</td>\n",
              "      <td>no</td>\n",
              "      <td>excellent</td>\n",
              "      <td>yes</td>\n",
              "      <td>NaN</td>\n",
              "    </tr>\n",
              "    <tr>\n",
              "      <th>12</th>\n",
              "      <td>31..40</td>\n",
              "      <td>high</td>\n",
              "      <td>yes</td>\n",
              "      <td>fair</td>\n",
              "      <td>yes</td>\n",
              "      <td>NaN</td>\n",
              "    </tr>\n",
              "    <tr>\n",
              "      <th>13</th>\n",
              "      <td>&gt;40</td>\n",
              "      <td>medium</td>\n",
              "      <td>no</td>\n",
              "      <td>excellent</td>\n",
              "      <td>no</td>\n",
              "      <td>NaN</td>\n",
              "    </tr>\n",
              "  </tbody>\n",
              "</table>\n",
              "</div>"
            ],
            "text/plain": [
              "       age  income student credit_rating buys_computer  Unnamed: 5\n",
              "0     <=30    high      no          fair            no         NaN\n",
              "1     <=30    high      no     excellent            no         NaN\n",
              "2   31..40    high      no          fair           yes         NaN\n",
              "3      >40  medium      no          fair           yes         NaN\n",
              "4      >40     low     yes          fair           yes         NaN\n",
              "5      >40     low     yes     excellent            no         NaN\n",
              "6   31..40     low     yes     excellent           yes         NaN\n",
              "7     <=30  medium      no          fair            no         NaN\n",
              "8     <=30     low     yes          fair           yes         NaN\n",
              "9      >40  medium     yes          fair           yes         NaN\n",
              "10    <=30  medium     yes     excellent           yes         NaN\n",
              "11  31..40  medium      no     excellent           yes         NaN\n",
              "12  31..40    high     yes          fair           yes         NaN\n",
              "13     >40  medium      no     excellent            no         NaN"
            ]
          },
          "metadata": {},
          "execution_count": 1
        }
      ]
    },
    {
      "cell_type": "code",
      "metadata": {
        "id": "R-6PZbqCVj0E"
      },
      "source": [
        "import math\n",
        "\n",
        "def entropy(p,n):\n",
        "  if p == 0:\n",
        "    t1=0\n",
        "  else:\n",
        "    t1=(p/(p+n)) * math.log2(p/(p+n))\n",
        "  if n == 0:\n",
        "    t2=0\n",
        "  else:\n",
        "    t2=(n/(p+n)) * math.log2(n/(p+n))\n",
        "  s=-t1-t2\n",
        "  return s\n",
        "\n",
        "# b= entropy(4,0)\n",
        "# print(b)"
      ],
      "execution_count": null,
      "outputs": []
    },
    {
      "cell_type": "code",
      "metadata": {
        "id": "AmoKvpREIqVz"
      },
      "source": [
        "def count(d):\n",
        "  cyes=0\n",
        "  cno=0\n",
        "  for x in d['buys_computer']:\n",
        "    if x == 'yes':\n",
        "      cyes=cyes+1\n",
        "    if x == 'no':\n",
        "      cno=cno + 1\n",
        "  return cyes, cno;\n",
        "\n",
        "# y, n = count(dfage2)\n",
        "\n",
        "# print(y)\n",
        "# print(n)"
      ],
      "execution_count": null,
      "outputs": []
    },
    {
      "cell_type": "code",
      "metadata": {
        "id": "GyLqtUekI8ys"
      },
      "source": [
        "dfage1 = df.loc[df['age'] == '<=30']\n",
        "dfage2 = df.loc[df['age'] == '31..40']\n",
        "dfage3 = df.loc[df['age'] == '>40']\n",
        "\n",
        "dfincome1 = df.loc[df['income'] == 'high']\n",
        "dfincome2 = df.loc[df['income'] == 'medium']\n",
        "dfincome3 = df.loc[df['income'] == 'low']\n",
        "\n",
        "dfstudent1 = df.loc[df['student'] == 'yes']\n",
        "dfstudent2 = df.loc[df['student'] == 'no']\n",
        "\n",
        "dfcredit1 = df.loc[df['credit_rating'] == 'fair']\n",
        "dfcredit2 = df.loc[df['credit_rating'] == 'excellent']\n",
        "# print(dfcredit2)\n"
      ],
      "execution_count": null,
      "outputs": []
    },
    {
      "cell_type": "code",
      "metadata": {
        "id": "w4agTiCPJHMb"
      },
      "source": [
        "cage1y, cage1n = count(dfage1)\n",
        "cage2y, cage2n = count(dfage2)\n",
        "cage3y, cage3n = count(dfage3)\n",
        "\n",
        "cincome1y, cincome1n = count(dfincome1)\n",
        "cincome2y, cincome2n = count(dfincome2)\n",
        "cincome3y, cincome3n = count(dfincome3)\n",
        "\n",
        "cstudent1y, cstudent1n = count(dfstudent1)\n",
        "cstudent2y, cstudent2n = count(dfstudent2)\n",
        "\n",
        "ccredit1y, ccredit1n = count(dfcredit1)\n",
        "ccredit2y, ccredit2n = count(dfcredit2)\n",
        "\n",
        "# print(cage2y, cage2n)"
      ],
      "execution_count": null,
      "outputs": []
    },
    {
      "cell_type": "code",
      "metadata": {
        "colab": {
          "base_uri": "https://localhost:8080/"
        },
        "id": "KgMh5tOeLodv",
        "outputId": "dd8ee020-0625-4d49-8c11-3a583a8b4618"
      },
      "source": [
        "\n",
        "enage= entropy(cage1y,cage1n) + entropy(cage2y,cage2n) + entropy(cage3y,cage3n)\n",
        "# enage= ((cage1y+cage1n)/14) * entropy(cage1y,cage1n) + ((cage2y+cage2n)/14) * entropy(cage2y,cage2n) + ((cage3y+cage3n)/14) * entropy(cage3y,cage3n)\n",
        "\n",
        "enincome= entropy(cincome1y,cincome1n) + entropy(cincome2y,cincome2n) + entropy(cincome3y,cincome3n)\n",
        "\n",
        "enstudent= entropy(cstudent1y,cstudent1n) + entropy(cstudent2y,cstudent2n)\n",
        "\n",
        "encredit= entropy(ccredit1y,ccredit1n) + entropy(ccredit2y,ccredit2n)\n",
        "\n",
        "print(enage)\n",
        "print(enincome)\n",
        "print(enstudent)\n",
        "print(encredit)"
      ],
      "execution_count": null,
      "outputs": [
        {
          "output_type": "stream",
          "name": "stdout",
          "text": [
            "1.9419011889093372\n",
            "2.7295739585136225\n",
            "1.576900914616579\n",
            "1.811278124459133\n"
          ]
        }
      ]
    },
    {
      "cell_type": "code",
      "metadata": {
        "colab": {
          "base_uri": "https://localhost:8080/"
        },
        "id": "zjQi6Y-sQwNP",
        "outputId": "11149a06-777e-49eb-8fe8-d92409aa0e6b"
      },
      "source": [
        "var = {enage:\"enage\",enincome:\"enincome\",enstudent:\"enstudent\",encredit:\"encredit\"}\n",
        "a=var.get(min(var))\n",
        "\n",
        "print(\"As per entropy analysis, the  value with least entropy must be taken\")\n",
        "print(\"The value with least entropy is\",a)"
      ],
      "execution_count": null,
      "outputs": [
        {
          "output_type": "stream",
          "name": "stdout",
          "text": [
            "As per entropy analysis, the  value with least entropy must be taken\n",
            "The value with least entropy is enstudent\n"
          ]
        }
      ]
    },
    {
      "cell_type": "markdown",
      "metadata": {
        "id": "HxcUNi-Q3NSo"
      },
      "source": [
        "A2. Create a Decision Tree classifier on your project data. Study the accuracy for training and test \n",
        "data and infer the accuracy of tree construction."
      ]
    },
    {
      "cell_type": "code",
      "metadata": {
        "id": "ArwYPVdwdnvK"
      },
      "source": [
        "\n",
        "import pandas as pd\n",
        "import numpy as np\n",
        "import matplotlib.pyplot as plt\n",
        "%matplotlib inline\n",
        "from skimage.io import imread, imshow"
      ],
      "execution_count": null,
      "outputs": []
    },
    {
      "cell_type": "code",
      "metadata": {
        "colab": {
          "base_uri": "https://localhost:8080/"
        },
        "id": "gJ1r-rp33S3b",
        "outputId": "a0c661e3-17a2-45e3-ac6a-e48d51e52a2c"
      },
      "source": [
        "# Class A\n",
        "imgAv1 = imread('2.jpg')\n",
        "feature_matriximgAv1 = np.zeros((256,256)) \n",
        "feature_matriximgAv1.shape\n",
        "for i in range(0,imgAv1.shape[0]):\n",
        "    for j in range(0,imgAv1.shape[1]):\n",
        "        feature_matriximgAv1[i][j] = ((int(imgAv1[i,j,0]) + int(imgAv1[i,j,1]) + int(imgAv1[i,j,2]))/3)\n",
        "featureAv1 = np.reshape(feature_matriximgAv1, (256*256))\n",
        "\n",
        "imgAv2 = imread('3.jpg')\n",
        "feature_matriximgAv2 = np.zeros((256,256)) \n",
        "feature_matriximgAv2.shape\n",
        "for i in range(0,imgAv2.shape[0]):\n",
        "    for j in range(0,imgAv2.shape[1]):\n",
        "        feature_matriximgAv2[i][j] = ((int(imgAv2[i,j,0]) + int(imgAv2[i,j,1]) + int(imgAv2[i,j,2]))/3)\n",
        "featureAv2 = np.reshape(feature_matriximgAv2, (256*256))\n",
        "\n",
        "imgAv3 = imread('4.jpg')\n",
        "feature_matriximgAv3 = np.zeros((256,256)) \n",
        "feature_matriximgAv3.shape\n",
        "for i in range(0,imgAv3.shape[0]):\n",
        "    for j in range(0,imgAv3.shape[1]):\n",
        "        feature_matriximgAv3[i][j] = ((int(imgAv3[i,j,0]) + int(imgAv3[i,j,1]) + int(imgAv3[i,j,2]))/3)\n",
        "featureAv3 = np.reshape(feature_matriximgAv3, (256*256))\n",
        "\n",
        "imgAv4 = imread('5.jpg')\n",
        "feature_matriximgAv4 = np.zeros((256,256)) \n",
        "feature_matriximgAv4.shape\n",
        "for i in range(0,imgAv4.shape[0]):\n",
        "    for j in range(0,imgAv4.shape[1]):\n",
        "        feature_matriximgAv4[i][j] = ((int(imgAv4[i,j,0]) + int(imgAv4[i,j,1]) + int(imgAv4[i,j,2]))/3)\n",
        "featureAv4 = np.reshape(feature_matriximgAv4, (256*256))\n",
        "\n",
        "imgAv5 = imread('6.jpg')\n",
        "feature_matriximgAv5 = np.zeros((256,256)) \n",
        "feature_matriximgAv5.shape\n",
        "for i in range(0,imgAv5.shape[0]):\n",
        "    for j in range(0,imgAv5.shape[1]):\n",
        "        feature_matriximgAv5[i][j] = ((int(imgAv5[i,j,0]) + int(imgAv5[i,j,1]) + int(imgAv5[i,j,2]))/3)\n",
        "featureAv5 = np.reshape(feature_matriximgAv5, (256*256))\n",
        "\n",
        "ClassA=np.array([featureAv1,featureAv2,featureAv3,featureAv4,featureAv5])\n",
        "\n",
        "print(ClassA)"
      ],
      "execution_count": null,
      "outputs": [
        {
          "output_type": "stream",
          "name": "stdout",
          "text": [
            "[[240.         242.         244.         ... 184.66666667 180.\n",
            "  184.        ]\n",
            " [ 61.          60.66666667  61.66666667 ...  72.66666667  70.66666667\n",
            "   68.66666667]\n",
            " [202.33333333 202.33333333 202.33333333 ... 113.33333333  70.33333333\n",
            "   80.33333333]\n",
            " [238.66666667 240.66666667 242.66666667 ... 225.33333333 224.66666667\n",
            "  184.66666667]\n",
            " [233.         232.         231.         ...  23.          15.\n",
            "    8.        ]]\n"
          ]
        }
      ]
    },
    {
      "cell_type": "code",
      "metadata": {
        "colab": {
          "base_uri": "https://localhost:8080/"
        },
        "id": "ns-MOZyKeFea",
        "outputId": "4f171532-94fa-4147-a0d1-5f7ec92d0cce"
      },
      "source": [
        "# Class B\n",
        "imgBv1 = imread('7.jpg')\n",
        "feature_matriximgBv1 = np.zeros((256,256)) \n",
        "feature_matriximgBv1.shape\n",
        "for i in range(0,imgBv1.shape[0]):\n",
        "    for j in range(0,imgBv1.shape[1]):\n",
        "        feature_matriximgBv1[i][j] = ((int(imgBv1[i,j,0]) + int(imgBv1[i,j,1]) + int(imgBv1[i,j,2]))/3)\n",
        "featureBv1 = np.reshape(feature_matriximgBv1, (256*256))\n",
        "\n",
        "imgBv2 = imread('8.jpg')\n",
        "feature_matriximgBv2 = np.zeros((256,256)) \n",
        "feature_matriximgBv2.shape\n",
        "for i in range(0,imgBv2.shape[0]):\n",
        "    for j in range(0,imgBv2.shape[1]):\n",
        "        feature_matriximgBv2[i][j] = ((int(imgBv2[i,j,0]) + int(imgBv2[i,j,1]) + int(imgBv2[i,j,2]))/3)\n",
        "featureBv2 = np.reshape(feature_matriximgBv2, (256*256))\n",
        "\n",
        "imgBv3 = imread('9.jpg')\n",
        "feature_matriximgBv3 = np.zeros((256,256)) \n",
        "feature_matriximgBv3.shape\n",
        "for i in range(0,imgBv3.shape[0]):\n",
        "    for j in range(0,imgBv3.shape[1]):\n",
        "        feature_matriximgBv3[i][j] = ((int(imgBv3[i,j,0]) + int(imgBv3[i,j,1]) + int(imgBv3[i,j,2]))/3)\n",
        "featureBv3 = np.reshape(feature_matriximgBv3, (256*256))\n",
        "\n",
        "imgBv4 = imread('10.jpg')\n",
        "feature_matriximgBv4 = np.zeros((256,256)) \n",
        "feature_matriximgBv4.shape\n",
        "for i in range(0,imgBv4.shape[0]):\n",
        "    for j in range(0,imgBv4.shape[1]):\n",
        "        feature_matriximgBv4[i][j] = ((int(imgBv4[i,j,0]) + int(imgBv4[i,j,1]) + int(imgBv4[i,j,2]))/3)\n",
        "featureBv4 = np.reshape(feature_matriximgBv4, (256*256))\n",
        "\n",
        "imgBv5 = imread('11.jpg')\n",
        "feature_matriximgBv5 = np.zeros((256,256)) \n",
        "feature_matriximgBv5.shape\n",
        "for i in range(0,imgBv5.shape[0]):\n",
        "    for j in range(0,imgBv5.shape[1]):\n",
        "        feature_matriximgBv5[i][j] = ((int(imgBv5[i,j,0]) + int(imgBv5[i,j,1]) + int(imgBv5[i,j,2]))/3)\n",
        "featureBv5 = np.reshape(feature_matriximgBv5, (256*256))\n",
        "\n",
        "ClassB=np.array([featureBv1,featureBv2,featureBv3,featureBv4,featureBv5])\n",
        "\n",
        "print(ClassB)"
      ],
      "execution_count": null,
      "outputs": [
        {
          "output_type": "stream",
          "name": "stdout",
          "text": [
            "[[164.33333333 163.33333333 162.33333333 ... 210.66666667 212.66666667\n",
            "  214.66666667]\n",
            " [130.         130.         130.         ...  96.33333333 122.66666667\n",
            "  103.66666667]\n",
            " [242.         245.         246.         ... 192.66666667 196.33333333\n",
            "  199.33333333]\n",
            " [121.66666667 119.66666667 117.66666667 ... 113.66666667 113.66666667\n",
            "   74.66666667]\n",
            " [208.33333333 211.33333333 211.33333333 ... 102.          86.\n",
            "   90.33333333]]\n"
          ]
        }
      ]
    },
    {
      "cell_type": "code",
      "metadata": {
        "colab": {
          "base_uri": "https://localhost:8080/"
        },
        "id": "JoY9MwCaeHE0",
        "outputId": "0e92860b-c24f-466a-c04a-620047772961"
      },
      "source": [
        "meanAv1=featureAv1.mean(axis=0)\n",
        "meanAv2=featureAv2.mean(axis=0)\n",
        "meanAv3=featureAv3.mean(axis=0)\n",
        "meanAv4=featureAv4.mean(axis=0)\n",
        "meanAv5=featureAv5.mean(axis=0)\n",
        "\n",
        "ClassA_label=np.array([meanAv1,meanAv2,meanAv3,meanAv4,meanAv5])\n",
        "print(ClassA_label)\n",
        "\n",
        "meanBv1=featureBv1.mean(axis=0)\n",
        "meanBv2=featureBv2.mean(axis=0)\n",
        "meanBv3=featureBv3.mean(axis=0)\n",
        "meanBv4=featureBv4.mean(axis=0)\n",
        "meanBv5=featureBv5.mean(axis=0)\n",
        "\n",
        "ClassB_label=np.array([meanBv1,meanBv2,meanBv3,meanBv4,meanBv5])\n",
        "print(ClassB_label)\n",
        "\n",
        "# for i in range(0,5):\n",
        "#   if ClassA_label[i]<100:\n",
        "#     ClassA_label[i]=0\n",
        "#   else:\n",
        "#     ClassA_label[i]=1\n",
        "\n",
        "for i in range(0,5):\n",
        "  if ClassA_label[i]<95:\n",
        "    ClassA_label[i]=-1\n",
        "  elif ClassA_label[i]<110:\n",
        "    ClassA_label[i]=0\n",
        "  else:\n",
        "    ClassA_label[i]=1\n",
        "\n",
        "for i in range(0,5):\n",
        "  if ClassB_label[i]<95:\n",
        "    ClassB_label[i]=-1\n",
        "  elif ClassB_label[i]<110:\n",
        "    ClassB_label[i]=0\n",
        "  else:\n",
        "    ClassB_label[i]=1\n",
        "\n",
        "print(ClassA_label)\n",
        "print(ClassB_label)"
      ],
      "execution_count": null,
      "outputs": [
        {
          "output_type": "stream",
          "name": "stdout",
          "text": [
            "[146.08732605  84.6669515  109.73945618 122.08019511 127.38117981]\n",
            "[127.17301432  92.02892049 119.04534403  90.80475871 106.46661886]\n",
            "[ 1. -1.  0.  1.  1.]\n",
            "[ 1. -1.  1. -1.  0.]\n"
          ]
        }
      ]
    },
    {
      "cell_type": "code",
      "metadata": {
        "colab": {
          "base_uri": "https://localhost:8080/"
        },
        "id": "XfSNkBLVeWEC",
        "outputId": "11e45a9e-c28e-4876-cb1e-5fd1f696db3c"
      },
      "source": [
        "Class=np.concatenate((ClassA,ClassB),axis=0)\n",
        "print(Class)\n",
        "\n",
        "Class_label=np.concatenate((ClassA_label,ClassB_label),axis=0)\n",
        "print(Class_label)"
      ],
      "execution_count": null,
      "outputs": [
        {
          "output_type": "stream",
          "name": "stdout",
          "text": [
            "[[240.         242.         244.         ... 184.66666667 180.\n",
            "  184.        ]\n",
            " [ 61.          60.66666667  61.66666667 ...  72.66666667  70.66666667\n",
            "   68.66666667]\n",
            " [202.33333333 202.33333333 202.33333333 ... 113.33333333  70.33333333\n",
            "   80.33333333]\n",
            " ...\n",
            " [242.         245.         246.         ... 192.66666667 196.33333333\n",
            "  199.33333333]\n",
            " [121.66666667 119.66666667 117.66666667 ... 113.66666667 113.66666667\n",
            "   74.66666667]\n",
            " [208.33333333 211.33333333 211.33333333 ... 102.          86.\n",
            "   90.33333333]]\n",
            "[ 1. -1.  0.  1.  1.  1. -1.  1. -1.  0.]\n"
          ]
        }
      ]
    },
    {
      "cell_type": "code",
      "metadata": {
        "colab": {
          "base_uri": "https://localhost:8080/"
        },
        "id": "TrxToEzPen3a",
        "outputId": "0a6c2911-b259-460e-d12a-f090d411f64a"
      },
      "source": [
        "from sklearn import tree\n",
        "import numpy as np\n",
        "from sklearn.model_selection import train_test_split\n",
        "train_featVecs, test_featVecs, train_labels, test_labels = train_test_split(Class,Class_label,test_size=0.2)\n",
        "ml_model = tree.DecisionTreeClassifier()\n",
        "ml_model = ml_model.fit(train_featVecs,train_labels)\n",
        "ml_model.score(train_featVecs, train_labels)#Training Set accuracy\n"
      ],
      "execution_count": null,
      "outputs": [
        {
          "output_type": "execute_result",
          "data": {
            "text/plain": [
              "1.0"
            ]
          },
          "metadata": {},
          "execution_count": 22
        }
      ]
    },
    {
      "cell_type": "code",
      "metadata": {
        "colab": {
          "base_uri": "https://localhost:8080/"
        },
        "id": "yq6l71Wjf6yV",
        "outputId": "2b3d8c5a-550e-435e-d504-c151f26f8164"
      },
      "source": [
        "ml_model.score(test_featVecs,test_labels)#Test Set Accuracy"
      ],
      "execution_count": null,
      "outputs": [
        {
          "output_type": "execute_result",
          "data": {
            "text/plain": [
              "0.5"
            ]
          },
          "metadata": {},
          "execution_count": 16
        }
      ]
    },
    {
      "cell_type": "markdown",
      "metadata": {
        "id": "5tMIftIl3SHS"
      },
      "source": [
        "A3. Plot the Decision Tree obtained above. Study the plot obtained and relate to your learning in \n",
        "class. Refer code below."
      ]
    },
    {
      "cell_type": "code",
      "metadata": {
        "colab": {
          "base_uri": "https://localhost:8080/",
          "height": 340
        },
        "id": "_n1ExU403aEz",
        "outputId": "22aaa4e4-c9d5-49fa-e6cf-b72c48b0a69a"
      },
      "source": [
        "from sklearn import tree\n",
        "tree.plot_tree(ml_model)\n"
      ],
      "execution_count": null,
      "outputs": [
        {
          "output_type": "execute_result",
          "data": {
            "text/plain": [
              "[Text(200.88000000000002, 181.2, 'X[15137] <= 139.833\\ngini = 0.531\\nsamples = 8\\nvalue = [2, 1, 5]'),\n",
              " Text(133.92000000000002, 108.72, 'X[37399] <= 41.167\\ngini = 0.444\\nsamples = 3\\nvalue = [2, 1, 0]'),\n",
              " Text(66.96000000000001, 36.23999999999998, 'gini = 0.0\\nsamples = 2\\nvalue = [2, 0, 0]'),\n",
              " Text(200.88000000000002, 36.23999999999998, 'gini = 0.0\\nsamples = 1\\nvalue = [0, 1, 0]'),\n",
              " Text(267.84000000000003, 108.72, 'gini = 0.0\\nsamples = 5\\nvalue = [0, 0, 5]')]"
            ]
          },
          "metadata": {},
          "execution_count": 19
        },
        {
          "output_type": "display_data",
          "data": {
            "image/png": "[encoded data removed]",
            "text/plain": [
              "<Figure size 432x288 with 1 Axes>"
            ]
          },
          "metadata": {
            "needs_background": "light"
          }
        }
      ]
    },
    {
      "cell_type": "markdown",
      "metadata": {
        "id": "K3xrptIC3ag5"
      },
      "source": [
        "A4. Study the criterion of the DT in the above model. Change the criterion to “Entropy” and study \n",
        "the model & graph. Find the differences between the default criterion and entropy criterion. Refer \n",
        "code below for criterion."
      ]
    },
    {
      "cell_type": "code",
      "metadata": {
        "colab": {
          "base_uri": "https://localhost:8080/"
        },
        "id": "3yfGZA4E3epJ",
        "outputId": "2deadd09-5571-4066-99a3-2310e79e6eb0"
      },
      "source": [
        "train_featVecs, test_featVecs, train_labels, test_labels = train_test_split(Class,Class_label,test_size=0.2)\n",
        "ml_model1 = tree.DecisionTreeClassifier(criterion=\"entropy\")\n",
        "ml_model1 = ml_model.fit(train_featVecs,train_labels)\n",
        "ml_model1.score(train_featVecs, train_labels)\n",
        "\n"
      ],
      "execution_count": null,
      "outputs": [
        {
          "output_type": "execute_result",
          "data": {
            "text/plain": [
              "1.0"
            ]
          },
          "metadata": {},
          "execution_count": 21
        }
      ]
    },
    {
      "cell_type": "code",
      "metadata": {
        "colab": {
          "base_uri": "https://localhost:8080/"
        },
        "id": "_73oa7Z7s9UI",
        "outputId": "03a24282-a762-4f1b-b481-be046e520bda"
      },
      "source": [
        "ml_model1.score(test_featVecs,test_labels)#Test Set Accuracy"
      ],
      "execution_count": null,
      "outputs": [
        {
          "output_type": "execute_result",
          "data": {
            "text/plain": [
              "1.0"
            ]
          },
          "metadata": {},
          "execution_count": 23
        }
      ]
    },
    {
      "cell_type": "code",
      "metadata": {
        "colab": {
          "base_uri": "https://localhost:8080/",
          "height": 340
        },
        "id": "wL_LsREOuJB4",
        "outputId": "75ff5593-7641-4229-b9c4-19939d38bb12"
      },
      "source": [
        "from sklearn import tree\n",
        "tree.plot_tree(ml_model1)\n"
      ],
      "execution_count": null,
      "outputs": [
        {
          "output_type": "execute_result",
          "data": {
            "text/plain": [
              "[Text(200.88000000000002, 181.2, 'X[8232] <= 156.333\\nentropy = 1.406\\nsamples = 8\\nvalue = [3, 1, 4]'),\n",
              " Text(133.92000000000002, 108.72, 'X[62934] <= 139.5\\nentropy = 0.811\\nsamples = 4\\nvalue = [3, 1, 0]'),\n",
              " Text(66.96000000000001, 36.23999999999998, 'entropy = 0.0\\nsamples = 3\\nvalue = [3, 0, 0]'),\n",
              " Text(200.88000000000002, 36.23999999999998, 'entropy = 0.0\\nsamples = 1\\nvalue = [0, 1, 0]'),\n",
              " Text(267.84000000000003, 108.72, 'entropy = 0.0\\nsamples = 4\\nvalue = [0, 0, 4]')]"
            ]
          },
          "metadata": {},
          "execution_count": 24
        },
        {
          "output_type": "display_data",
          "data": {
            "image/png": "[encoded data removed]",
            "text/plain": [
              "<Figure size 432x288 with 1 Axes>"
            ]
          },
          "metadata": {
            "needs_background": "light"
          }
        }
      ]
    }
  ]
}