{
  "nbformat": 4,
  "nbformat_minor": 0,
  "metadata": {
    "colab": {
      "name": "MLLab12.ipynb",
      "provenance": [],
      "collapsed_sections": [],
      "authorship_tag": "ABX9TyP3Fjn1cmC5f/28l8bgX94y"
    },
    "kernelspec": {
      "name": "python3",
      "display_name": "Python 3"
    },
    "language_info": {
      "name": "python"
    }
  },
  "cells": [
    {
      "cell_type": "markdown",
      "metadata": {
        "id": "K07qeHRvqfaN"
      },
      "source": [
        "A1. Implement the forward feature selection algorithm on your feature list. Find out the optimal set \n",
        "where maximum accuracy is achieved."
      ]
    },
    {
      "cell_type": "code",
      "metadata": {
        "id": "zEnFpoAU0b_z",
        "colab": {
          "base_uri": "https://localhost:8080/"
        },
        "outputId": "30d3f2ba-4a32-422b-8cfc-38c962881f68"
      },
      "source": [
        "import pandas as pd\n",
        "import numpy as np\n",
        "import matplotlib.pyplot as plt\n",
        "%matplotlib inline\n",
        "from skimage.io import imread, imshow\n",
        "\n",
        "# Class A\n",
        "imgAv1 = imread('2.jpg')\n",
        "feature_matriximgAv1 = np.zeros((256,256)) \n",
        "feature_matriximgAv1.shape\n",
        "for i in range(0,imgAv1.shape[0]):\n",
        "    for j in range(0,imgAv1.shape[1]):\n",
        "        feature_matriximgAv1[i][j] = ((int(imgAv1[i,j,0]) + int(imgAv1[i,j,1]) + int(imgAv1[i,j,2]))/3)\n",
        "featureAv1 = np.reshape(feature_matriximgAv1, (256*256))\n",
        "\n",
        "imgAv2 = imread('3.jpg')\n",
        "feature_matriximgAv2 = np.zeros((256,256)) \n",
        "feature_matriximgAv2.shape\n",
        "for i in range(0,imgAv2.shape[0]):\n",
        "    for j in range(0,imgAv2.shape[1]):\n",
        "        feature_matriximgAv2[i][j] = ((int(imgAv2[i,j,0]) + int(imgAv2[i,j,1]) + int(imgAv2[i,j,2]))/3)\n",
        "featureAv2 = np.reshape(feature_matriximgAv2, (256*256))\n",
        "\n",
        "imgAv3 = imread('4.jpg')\n",
        "feature_matriximgAv3 = np.zeros((256,256)) \n",
        "feature_matriximgAv3.shape\n",
        "for i in range(0,imgAv3.shape[0]):\n",
        "    for j in range(0,imgAv3.shape[1]):\n",
        "        feature_matriximgAv3[i][j] = ((int(imgAv3[i,j,0]) + int(imgAv3[i,j,1]) + int(imgAv3[i,j,2]))/3)\n",
        "featureAv3 = np.reshape(feature_matriximgAv3, (256*256))\n",
        "\n",
        "imgAv4 = imread('5.jpg')\n",
        "feature_matriximgAv4 = np.zeros((256,256)) \n",
        "feature_matriximgAv4.shape\n",
        "for i in range(0,imgAv4.shape[0]):\n",
        "    for j in range(0,imgAv4.shape[1]):\n",
        "        feature_matriximgAv4[i][j] = ((int(imgAv4[i,j,0]) + int(imgAv4[i,j,1]) + int(imgAv4[i,j,2]))/3)\n",
        "featureAv4 = np.reshape(feature_matriximgAv4, (256*256))\n",
        "\n",
        "imgAv5 = imread('6.jpg')\n",
        "feature_matriximgAv5 = np.zeros((256,256)) \n",
        "feature_matriximgAv5.shape\n",
        "for i in range(0,imgAv5.shape[0]):\n",
        "    for j in range(0,imgAv5.shape[1]):\n",
        "        feature_matriximgAv5[i][j] = ((int(imgAv5[i,j,0]) + int(imgAv5[i,j,1]) + int(imgAv5[i,j,2]))/3)\n",
        "featureAv5 = np.reshape(feature_matriximgAv5, (256*256))\n",
        "\n",
        "ClassA=np.array([featureAv1,featureAv2,featureAv3,featureAv4,featureAv5])\n",
        "\n",
        "print(ClassA)\n",
        "\n",
        "# Class B\n",
        "imgBv1 = imread('7.jpg')\n",
        "feature_matriximgBv1 = np.zeros((256,256)) \n",
        "feature_matriximgBv1.shape\n",
        "for i in range(0,imgBv1.shape[0]):\n",
        "    for j in range(0,imgBv1.shape[1]):\n",
        "        feature_matriximgBv1[i][j] = ((int(imgBv1[i,j,0]) + int(imgBv1[i,j,1]) + int(imgBv1[i,j,2]))/3)\n",
        "featureBv1 = np.reshape(feature_matriximgBv1, (256*256))\n",
        "\n",
        "imgBv2 = imread('8.jpg')\n",
        "feature_matriximgBv2 = np.zeros((256,256)) \n",
        "feature_matriximgBv2.shape\n",
        "for i in range(0,imgBv2.shape[0]):\n",
        "    for j in range(0,imgBv2.shape[1]):\n",
        "        feature_matriximgBv2[i][j] = ((int(imgBv2[i,j,0]) + int(imgBv2[i,j,1]) + int(imgBv2[i,j,2]))/3)\n",
        "featureBv2 = np.reshape(feature_matriximgBv2, (256*256))\n",
        "\n",
        "imgBv3 = imread('9.jpg')\n",
        "feature_matriximgBv3 = np.zeros((256,256)) \n",
        "feature_matriximgBv3.shape\n",
        "for i in range(0,imgBv3.shape[0]):\n",
        "    for j in range(0,imgBv3.shape[1]):\n",
        "        feature_matriximgBv3[i][j] = ((int(imgBv3[i,j,0]) + int(imgBv3[i,j,1]) + int(imgBv3[i,j,2]))/3)\n",
        "featureBv3 = np.reshape(feature_matriximgBv3, (256*256))\n",
        "\n",
        "imgBv4 = imread('10.jpg')\n",
        "feature_matriximgBv4 = np.zeros((256,256)) \n",
        "feature_matriximgBv4.shape\n",
        "for i in range(0,imgBv4.shape[0]):\n",
        "    for j in range(0,imgBv4.shape[1]):\n",
        "        feature_matriximgBv4[i][j] = ((int(imgBv4[i,j,0]) + int(imgBv4[i,j,1]) + int(imgBv4[i,j,2]))/3)\n",
        "featureBv4 = np.reshape(feature_matriximgBv4, (256*256))\n",
        "\n",
        "imgBv5 = imread('11.jpg')\n",
        "feature_matriximgBv5 = np.zeros((256,256)) \n",
        "feature_matriximgBv5.shape\n",
        "for i in range(0,imgBv5.shape[0]):\n",
        "    for j in range(0,imgBv5.shape[1]):\n",
        "        feature_matriximgBv5[i][j] = ((int(imgBv5[i,j,0]) + int(imgBv5[i,j,1]) + int(imgBv5[i,j,2]))/3)\n",
        "featureBv5 = np.reshape(feature_matriximgBv5, (256*256))\n",
        "\n",
        "ClassB=np.array([featureBv1,featureBv2,featureBv3,featureBv4,featureBv5])\n",
        "\n",
        "print(ClassB)"
      ],
      "execution_count": null,
      "outputs": [
        {
          "output_type": "stream",
          "name": "stdout",
          "text": [
            "[[240.         242.         244.         ... 184.66666667 180.\n",
            "  184.        ]\n",
            " [ 61.          60.66666667  61.66666667 ...  72.66666667  70.66666667\n",
            "   68.66666667]\n",
            " [202.33333333 202.33333333 202.33333333 ... 113.33333333  70.33333333\n",
            "   80.33333333]\n",
            " [238.66666667 240.66666667 242.66666667 ... 225.33333333 224.66666667\n",
            "  184.66666667]\n",
            " [233.         232.         231.         ...  23.          15.\n",
            "    8.        ]]\n",
            "[[164.33333333 163.33333333 162.33333333 ... 210.66666667 212.66666667\n",
            "  214.66666667]\n",
            " [130.         130.         130.         ...  96.33333333 122.66666667\n",
            "  103.66666667]\n",
            " [242.         245.         246.         ... 192.66666667 196.33333333\n",
            "  199.33333333]\n",
            " [121.66666667 119.66666667 117.66666667 ... 113.66666667 113.66666667\n",
            "   74.66666667]\n",
            " [208.33333333 211.33333333 211.33333333 ... 102.          86.\n",
            "   90.33333333]]\n"
          ]
        }
      ]
    },
    {
      "cell_type": "code",
      "metadata": {
        "colab": {
          "base_uri": "https://localhost:8080/"
        },
        "id": "KkMUgGOVydS2",
        "outputId": "2afd31aa-0da0-454d-ad65-5c216d1185ed"
      },
      "source": [
        "meanAv1=featureAv1.mean(axis=0)\n",
        "meanAv2=featureAv2.mean(axis=0)\n",
        "meanAv3=featureAv3.mean(axis=0)\n",
        "meanAv4=featureAv4.mean(axis=0)\n",
        "meanAv5=featureAv5.mean(axis=0)\n",
        "\n",
        "ClassA_label=np.array([meanAv1,meanAv2,meanAv3,meanAv4,meanAv5])\n",
        "print(ClassA_label)\n",
        "\n",
        "meanBv1=featureBv1.mean(axis=0)\n",
        "meanBv2=featureBv2.mean(axis=0)\n",
        "meanBv3=featureBv3.mean(axis=0)\n",
        "meanBv4=featureBv4.mean(axis=0)\n",
        "meanBv5=featureBv5.mean(axis=0)\n",
        "\n",
        "ClassB_label=np.array([meanBv1,meanBv2,meanBv3,meanBv4,meanBv5])\n",
        "print(ClassB_label)\n",
        "\n",
        "# for i in range(0,5):\n",
        "#   if ClassA_label[i]<100:\n",
        "#     ClassA_label[i]=0\n",
        "#   else:\n",
        "#     ClassA_label[i]=1\n",
        "\n",
        "for i in range(0,5):\n",
        "  if ClassA_label[i]<95:\n",
        "    ClassA_label[i]=-1\n",
        "  elif ClassA_label[i]<110:\n",
        "    ClassA_label[i]=0\n",
        "  else:\n",
        "    ClassA_label[i]=1\n",
        "\n",
        "for i in range(0,5):\n",
        "  if ClassB_label[i]<95:\n",
        "    ClassB_label[i]=-1\n",
        "  elif ClassB_label[i]<110:\n",
        "    ClassB_label[i]=0\n",
        "  else:\n",
        "    ClassB_label[i]=1\n",
        "\n",
        "print(ClassA_label)\n",
        "print(ClassB_label)"
      ],
      "execution_count": null,
      "outputs": [
        {
          "output_type": "stream",
          "name": "stdout",
          "text": [
            "[146.08732605  84.6669515  109.73945618 122.08019511 127.38117981]\n",
            "[127.17301432  92.02892049 119.04534403  90.80475871 106.46661886]\n",
            "[ 1. -1.  0.  1.  1.]\n",
            "[ 1. -1.  1. -1.  0.]\n"
          ]
        }
      ]
    },
    {
      "cell_type": "code",
      "metadata": {
        "colab": {
          "base_uri": "https://localhost:8080/"
        },
        "id": "UXEM_oxCDEg_",
        "outputId": "feb2bdbe-5c63-4e07-f67c-fb540ff6d1f7"
      },
      "source": [
        "Class=np.concatenate((ClassA,ClassB),axis=0)\n",
        "print(Class)\n",
        "\n",
        "Class_label=np.concatenate((ClassA_label,ClassB_label),axis=0)\n",
        "print(Class_label)"
      ],
      "execution_count": null,
      "outputs": [
        {
          "output_type": "stream",
          "name": "stdout",
          "text": [
            "[[240.         242.         244.         ... 184.66666667 180.\n",
            "  184.        ]\n",
            " [ 61.          60.66666667  61.66666667 ...  72.66666667  70.66666667\n",
            "   68.66666667]\n",
            " [202.33333333 202.33333333 202.33333333 ... 113.33333333  70.33333333\n",
            "   80.33333333]\n",
            " ...\n",
            " [242.         245.         246.         ... 192.66666667 196.33333333\n",
            "  199.33333333]\n",
            " [121.66666667 119.66666667 117.66666667 ... 113.66666667 113.66666667\n",
            "   74.66666667]\n",
            " [208.33333333 211.33333333 211.33333333 ... 102.          86.\n",
            "   90.33333333]]\n",
            "[ 1. -1.  0.  1.  1.  1. -1.  1. -1.  0.]\n"
          ]
        }
      ]
    },
    {
      "cell_type": "code",
      "metadata": {
        "id": "2jhzlrdzO-QY"
      },
      "source": [
        "\n",
        "from mlxtend.feature_selection import SequentialFeatureSelector as SFS\n",
        "from sklearn.linear_model import LinearRegression\n",
        "\n",
        "sfs = SFS(LinearRegression(), k_features=11, forward=True, floating=False, scoring = 'r2', cv = 0)"
      ],
      "execution_count": null,
      "outputs": []
    },
    {
      "cell_type": "code",
      "metadata": {
        "colab": {
          "base_uri": "https://localhost:8080/"
        },
        "id": "EBYRFKGnamBj",
        "outputId": "3d48d984-acea-479a-8f08-e640732fa338"
      },
      "source": [
        "sfs.fit(ClassA, ClassA_label)\n",
        "sfs.k_feature_names_ "
      ],
      "execution_count": null,
      "outputs": [
        {
          "output_type": "execute_result",
          "data": {
            "text/plain": [
              "('0', '1', '2', '3', '4', '5', '6', '7', '3164', '19159', '33454')"
            ]
          },
          "metadata": {},
          "execution_count": 7
        }
      ]
    },
    {
      "cell_type": "markdown",
      "metadata": {
        "id": "DBCgW55jqlG9"
      },
      "source": [
        "A2. Implement the backward feature removal algorithm. Identify the optimal set with accuracy \n",
        "maximization as the target. Compare the results obtained with the results from A1.\n"
      ]
    },
    {
      "cell_type": "code",
      "metadata": {
        "id": "ncoElL8yqnpc"
      },
      "source": [
        "\n",
        "sbs = SFS(LinearRegression(), k_features=5, forward=False, floating=False, cv=0)\n",
        "sbs.fit(ClassA, ClassA_label)"
      ],
      "execution_count": null,
      "outputs": []
    },
    {
      "cell_type": "markdown",
      "metadata": {
        "id": "U223PZ9xqn8F"
      },
      "source": [
        "A3. Check the variance associated with each attribute for your data set. If your data has categorical \n",
        "features, you may derive the variance after label coding."
      ]
    },
    {
      "cell_type": "code",
      "metadata": {
        "colab": {
          "base_uri": "https://localhost:8080/"
        },
        "id": "5HBBYYruqqA1",
        "outputId": "e654ba89-77c0-4d0f-e442-10fed3859c3a"
      },
      "source": [
        "\n",
        "import statistics\n",
        " \n",
        "v1=statistics.variance(featureAv1)\n",
        "v2=statistics.variance(featureAv2)\n",
        "v3=statistics.variance(featureAv3)\n",
        "v4=statistics.variance(featureAv4)\n",
        "v5=statistics.variance(featureAv5)\n",
        "\n",
        "print(v1, v2, v3, v4, v5)"
      ],
      "execution_count": null,
      "outputs": [
        {
          "output_type": "stream",
          "name": "stdout",
          "text": [
            "5769.362330725995 4180.231031683067 4906.3701396674605 6860.158930666645 7622.938580274483\n"
          ]
        }
      ]
    },
    {
      "cell_type": "markdown",
      "metadata": {
        "id": "zNJNNu62qqMV"
      },
      "source": [
        "A4. Perform PCA on your data set. Observe the variances along the principal components. Identify \n",
        "the features needed to capture 95% of data variance. Let’s say the number of features needed is K."
      ]
    },
    {
      "cell_type": "code",
      "metadata": {
        "colab": {
          "base_uri": "https://localhost:8080/"
        },
        "id": "_2rcTT07qsrd",
        "outputId": "e8ef80b4-4bbc-4e64-b0d5-a380de73c989"
      },
      "source": [
        "import numpy as np\n",
        "from sklearn.decomposition import PCA\n",
        "\n",
        "pca = PCA(n_components=2, svd_solver='full')\n",
        "pca.fit(ClassA)\n",
        "\n",
        "print(pca.explained_variance_ratio_)\n",
        "\n",
        "print(pca.singular_values_)\n"
      ],
      "execution_count": null,
      "outputs": [
        {
          "output_type": "stream",
          "name": "stdout",
          "text": [
            "[0.53106975 0.26724811]\n",
            "[22634.53545375 16056.58294254]\n"
          ]
        }
      ]
    },
    {
      "cell_type": "markdown",
      "metadata": {
        "id": "cVhswtJaqs_7"
      },
      "source": [
        "A5. Transform your data with the initial K PC’s. Calculate the accuracy using the transformed \n",
        "dataset"
      ]
    },
    {
      "cell_type": "code",
      "metadata": {
        "colab": {
          "base_uri": "https://localhost:8080/"
        },
        "id": "iqOQwqpyqvVW",
        "outputId": "b14064a0-61ab-49cc-ad7f-89ac7b922449"
      },
      "source": [
        "pca = PCA(n_components=None)\n",
        "X_train_pca = pca.fit_transform(ClassA)\n",
        "pca.explained_variance_ratio_"
      ],
      "execution_count": null,
      "outputs": [
        {
          "output_type": "execute_result",
          "data": {
            "text/plain": [
              "array([5.31069752e-01, 2.67248114e-01, 1.24751980e-01, 7.69301548e-02,\n",
              "       1.27042082e-30])"
            ]
          },
          "metadata": {},
          "execution_count": 13
        }
      ]
    }
  ]
}