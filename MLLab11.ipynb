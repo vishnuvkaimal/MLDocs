{
  "nbformat": 4,
  "nbformat_minor": 0,
  "metadata": {
    "colab": {
      "name": "MLLab11.ipynb",
      "provenance": [],
      "authorship_tag": "ABX9TyNQrYEfEAAn/aj27QCrULnH"
    },
    "kernelspec": {
      "name": "python3",
      "display_name": "Python 3"
    },
    "language_info": {
      "name": "python"
    }
  },
  "cells": [
    {
      "cell_type": "markdown",
      "metadata": {
        "id": "XoALDheQojX-"
      },
      "source": [
        "A1. For your project, study the features and assign them the different data categories. Determine \n",
        "the mechanisms to estimate the class conditional density for each such feature group (belonging to \n",
        "the same data type category)"
      ]
    },
    {
      "cell_type": "code",
      "metadata": {
        "id": "0IiN9R4TxQEh",
        "colab": {
          "base_uri": "https://localhost:8080/"
        },
        "outputId": "2f124531-909d-4ba0-ddb3-999569e3ed83"
      },
      "source": [
        "import pandas as pd\n",
        "import numpy as np\n",
        "import matplotlib.pyplot as plt\n",
        "%matplotlib inline\n",
        "from skimage.io import imread, imshow\n",
        "\n",
        "# Class A\n",
        "imgAv1 = imread('2.jpg')\n",
        "feature_matriximgAv1 = np.zeros((256,256)) \n",
        "feature_matriximgAv1.shape\n",
        "for i in range(0,imgAv1.shape[0]):\n",
        "    for j in range(0,imgAv1.shape[1]):\n",
        "        feature_matriximgAv1[i][j] = ((int(imgAv1[i,j,0]) + int(imgAv1[i,j,1]) + int(imgAv1[i,j,2]))/3)\n",
        "featureAv1 = np.reshape(feature_matriximgAv1, (256*256))\n",
        "\n",
        "imgAv2 = imread('3.jpg')\n",
        "feature_matriximgAv2 = np.zeros((256,256)) \n",
        "feature_matriximgAv2.shape\n",
        "for i in range(0,imgAv2.shape[0]):\n",
        "    for j in range(0,imgAv2.shape[1]):\n",
        "        feature_matriximgAv2[i][j] = ((int(imgAv2[i,j,0]) + int(imgAv2[i,j,1]) + int(imgAv2[i,j,2]))/3)\n",
        "featureAv2 = np.reshape(feature_matriximgAv2, (256*256))\n",
        "\n",
        "imgAv3 = imread('4.jpg')\n",
        "feature_matriximgAv3 = np.zeros((256,256)) \n",
        "feature_matriximgAv3.shape\n",
        "for i in range(0,imgAv3.shape[0]):\n",
        "    for j in range(0,imgAv3.shape[1]):\n",
        "        feature_matriximgAv3[i][j] = ((int(imgAv3[i,j,0]) + int(imgAv3[i,j,1]) + int(imgAv3[i,j,2]))/3)\n",
        "featureAv3 = np.reshape(feature_matriximgAv3, (256*256))\n",
        "\n",
        "imgAv4 = imread('5.jpg')\n",
        "feature_matriximgAv4 = np.zeros((256,256)) \n",
        "feature_matriximgAv4.shape\n",
        "for i in range(0,imgAv4.shape[0]):\n",
        "    for j in range(0,imgAv4.shape[1]):\n",
        "        feature_matriximgAv4[i][j] = ((int(imgAv4[i,j,0]) + int(imgAv4[i,j,1]) + int(imgAv4[i,j,2]))/3)\n",
        "featureAv4 = np.reshape(feature_matriximgAv4, (256*256))\n",
        "\n",
        "imgAv5 = imread('6.jpg')\n",
        "feature_matriximgAv5 = np.zeros((256,256)) \n",
        "feature_matriximgAv5.shape\n",
        "for i in range(0,imgAv5.shape[0]):\n",
        "    for j in range(0,imgAv5.shape[1]):\n",
        "        feature_matriximgAv5[i][j] = ((int(imgAv5[i,j,0]) + int(imgAv5[i,j,1]) + int(imgAv5[i,j,2]))/3)\n",
        "featureAv5 = np.reshape(feature_matriximgAv5, (256*256))\n",
        "\n",
        "ClassA=np.array([featureAv1,featureAv2,featureAv3,featureAv4,featureAv5])\n",
        "\n",
        "print(ClassA)\n",
        "\n",
        "# Class B\n",
        "imgBv1 = imread('7.jpg')\n",
        "feature_matriximgBv1 = np.zeros((256,256)) \n",
        "feature_matriximgBv1.shape\n",
        "for i in range(0,imgBv1.shape[0]):\n",
        "    for j in range(0,imgBv1.shape[1]):\n",
        "        feature_matriximgBv1[i][j] = ((int(imgBv1[i,j,0]) + int(imgBv1[i,j,1]) + int(imgBv1[i,j,2]))/3)\n",
        "featureBv1 = np.reshape(feature_matriximgBv1, (256*256))\n",
        "\n",
        "imgBv2 = imread('8.jpg')\n",
        "feature_matriximgBv2 = np.zeros((256,256)) \n",
        "feature_matriximgBv2.shape\n",
        "for i in range(0,imgBv2.shape[0]):\n",
        "    for j in range(0,imgBv2.shape[1]):\n",
        "        feature_matriximgBv2[i][j] = ((int(imgBv2[i,j,0]) + int(imgBv2[i,j,1]) + int(imgBv2[i,j,2]))/3)\n",
        "featureBv2 = np.reshape(feature_matriximgBv2, (256*256))\n",
        "\n",
        "imgBv3 = imread('9.jpg')\n",
        "feature_matriximgBv3 = np.zeros((256,256)) \n",
        "feature_matriximgBv3.shape\n",
        "for i in range(0,imgBv3.shape[0]):\n",
        "    for j in range(0,imgBv3.shape[1]):\n",
        "        feature_matriximgBv3[i][j] = ((int(imgBv3[i,j,0]) + int(imgBv3[i,j,1]) + int(imgBv3[i,j,2]))/3)\n",
        "featureBv3 = np.reshape(feature_matriximgBv3, (256*256))\n",
        "\n",
        "imgBv4 = imread('10.jpg')\n",
        "feature_matriximgBv4 = np.zeros((256,256)) \n",
        "feature_matriximgBv4.shape\n",
        "for i in range(0,imgBv4.shape[0]):\n",
        "    for j in range(0,imgBv4.shape[1]):\n",
        "        feature_matriximgBv4[i][j] = ((int(imgBv4[i,j,0]) + int(imgBv4[i,j,1]) + int(imgBv4[i,j,2]))/3)\n",
        "featureBv4 = np.reshape(feature_matriximgBv4, (256*256))\n",
        "\n",
        "imgBv5 = imread('11.jpg')\n",
        "feature_matriximgBv5 = np.zeros((256,256)) \n",
        "feature_matriximgBv5.shape\n",
        "for i in range(0,imgBv5.shape[0]):\n",
        "    for j in range(0,imgBv5.shape[1]):\n",
        "        feature_matriximgBv5[i][j] = ((int(imgBv5[i,j,0]) + int(imgBv5[i,j,1]) + int(imgBv5[i,j,2]))/3)\n",
        "featureBv5 = np.reshape(feature_matriximgBv5, (256*256))\n",
        "\n",
        "ClassB=np.array([featureBv1,featureBv2,featureBv3,featureBv4,featureBv5])\n",
        "\n",
        "print(ClassB)"
      ],
      "execution_count": null,
      "outputs": [
        {
          "output_type": "stream",
          "name": "stdout",
          "text": [
            "[[240.         242.         244.         ... 184.66666667 180.\n",
            "  184.        ]\n",
            " [ 61.          60.66666667  61.66666667 ...  72.66666667  70.66666667\n",
            "   68.66666667]\n",
            " [202.33333333 202.33333333 202.33333333 ... 113.33333333  70.33333333\n",
            "   80.33333333]\n",
            " [238.66666667 240.66666667 242.66666667 ... 225.33333333 224.66666667\n",
            "  184.66666667]\n",
            " [233.         232.         231.         ...  23.          15.\n",
            "    8.        ]]\n",
            "[[164.33333333 163.33333333 162.33333333 ... 210.66666667 212.66666667\n",
            "  214.66666667]\n",
            " [130.         130.         130.         ...  96.33333333 122.66666667\n",
            "  103.66666667]\n",
            " [242.         245.         246.         ... 192.66666667 196.33333333\n",
            "  199.33333333]\n",
            " [121.66666667 119.66666667 117.66666667 ... 113.66666667 113.66666667\n",
            "   74.66666667]\n",
            " [208.33333333 211.33333333 211.33333333 ... 102.          86.\n",
            "   90.33333333]]\n"
          ]
        }
      ]
    },
    {
      "cell_type": "code",
      "metadata": {
        "colab": {
          "base_uri": "https://localhost:8080/"
        },
        "id": "ZqVcR-oduOPU",
        "outputId": "9986eeac-608e-4886-d399-08343336fe96"
      },
      "source": [
        "meanAv1=featureAv1.mean(axis=0)\n",
        "meanAv2=featureAv2.mean(axis=0)\n",
        "meanAv3=featureAv3.mean(axis=0)\n",
        "meanAv4=featureAv4.mean(axis=0)\n",
        "meanAv5=featureAv5.mean(axis=0)\n",
        "\n",
        "ClassA_label=np.array([meanAv1,meanAv2,meanAv3,meanAv4,meanAv5])\n",
        "print(ClassA_label)\n",
        "\n",
        "meanBv1=featureBv1.mean(axis=0)\n",
        "meanBv2=featureBv2.mean(axis=0)\n",
        "meanBv3=featureBv3.mean(axis=0)\n",
        "meanBv4=featureBv4.mean(axis=0)\n",
        "meanBv5=featureBv5.mean(axis=0)\n",
        "\n",
        "ClassB_label=np.array([meanBv1,meanBv2,meanBv3,meanBv4,meanBv5])\n",
        "print(ClassB_label)\n",
        "\n",
        "# for i in range(0,5):\n",
        "#   if ClassA_label[i]<100:\n",
        "#     ClassA_label[i]=0\n",
        "#   else:\n",
        "#     ClassA_label[i]=1\n",
        "\n",
        "for i in range(0,5):\n",
        "  if ClassA_label[i]<95:\n",
        "    ClassA_label[i]=-1\n",
        "  elif ClassA_label[i]<110:\n",
        "    ClassA_label[i]=0\n",
        "  else:\n",
        "    ClassA_label[i]=1\n",
        "\n",
        "for i in range(0,5):\n",
        "  if ClassB_label[i]<95:\n",
        "    ClassB_label[i]=-1\n",
        "  elif ClassB_label[i]<110:\n",
        "    ClassB_label[i]=0\n",
        "  else:\n",
        "    ClassB_label[i]=1\n",
        "\n",
        "print(ClassA_label)\n",
        "print(ClassB_label)"
      ],
      "execution_count": null,
      "outputs": [
        {
          "output_type": "stream",
          "name": "stdout",
          "text": [
            "[146.08732605  84.6669515  109.73945618 122.08019511 127.38117981]\n",
            "[127.17301432  92.02892049 119.04534403  90.80475871 106.46661886]\n",
            "[ 1. -1.  0.  1.  1.]\n",
            "[ 1. -1.  1. -1.  0.]\n"
          ]
        }
      ]
    },
    {
      "cell_type": "code",
      "metadata": {
        "colab": {
          "base_uri": "https://localhost:8080/"
        },
        "id": "D8RNNylAuVNk",
        "outputId": "93644615-c4e5-48cc-c1f3-df42bd6fa86b"
      },
      "source": [
        "Class=np.concatenate((ClassA,ClassB),axis=0)\n",
        "print(Class)\n",
        "\n",
        "Class_label=np.concatenate((ClassA_label,ClassB_label),axis=0)\n",
        "print(Class_label)"
      ],
      "execution_count": null,
      "outputs": [
        {
          "output_type": "stream",
          "name": "stdout",
          "text": [
            "[[240.         242.         244.         ... 184.66666667 180.\n",
            "  184.        ]\n",
            " [ 61.          60.66666667  61.66666667 ...  72.66666667  70.66666667\n",
            "   68.66666667]\n",
            " [202.33333333 202.33333333 202.33333333 ... 113.33333333  70.33333333\n",
            "   80.33333333]\n",
            " ...\n",
            " [242.         245.         246.         ... 192.66666667 196.33333333\n",
            "  199.33333333]\n",
            " [121.66666667 119.66666667 117.66666667 ... 113.66666667 113.66666667\n",
            "   74.66666667]\n",
            " [208.33333333 211.33333333 211.33333333 ... 102.          86.\n",
            "   90.33333333]]\n",
            "[ 1. -1.  0.  1.  1.  1. -1.  1. -1.  0.]\n"
          ]
        }
      ]
    },
    {
      "cell_type": "code",
      "metadata": {
        "colab": {
          "base_uri": "https://localhost:8080/"
        },
        "id": "sZUg9PmyuXwR",
        "outputId": "92799f4b-da2c-4487-8d72-af8e2e15810d"
      },
      "source": [
        "c0=0\n",
        "c1=0\n",
        "cneg1=0\n",
        "for i in Class_label:\n",
        "  if i==0:\n",
        "    c0=c0+1\n",
        "  if i==1:\n",
        "    c1=c1+1\n",
        "  if i==-1:\n",
        "    cneg1=cneg1+1\n",
        "\n",
        "# print(c0, c1, cneg1)\n",
        "\n",
        "Pxl0= (c0/10) / (1/3)\n",
        "Pxl1= (c1/10) / (1/3)\n",
        "Pxlneg1= (cneg1/10) / (1/3)\n",
        "\n",
        "print(Pxl0,Pxl1,Pxlneg1)"
      ],
      "execution_count": null,
      "outputs": [
        {
          "output_type": "stream",
          "name": "stdout",
          "text": [
            "0.6000000000000001 1.5 0.9\n"
          ]
        }
      ]
    },
    {
      "cell_type": "markdown",
      "metadata": {
        "id": "elMklf72onhz"
      },
      "source": [
        "A2. From your dataset, calculate the prior probabilities for each available class. From the calculated \n",
        "prior probabilities, determine if the data is a class balanced or n"
      ]
    },
    {
      "cell_type": "code",
      "metadata": {
        "colab": {
          "base_uri": "https://localhost:8080/"
        },
        "id": "RcCYM50Joqc_",
        "outputId": "a57a1889-9d44-4974-ed7b-ec738d7e326f"
      },
      "source": [
        "P0=c0/10\n",
        "P1=c1/10\n",
        "Pneg1=cneg1/10\n",
        "\n",
        "print(P0,P1,Pneg1)\n",
        "print(\"unbalanced\")"
      ],
      "execution_count": null,
      "outputs": [
        {
          "output_type": "stream",
          "name": "stdout",
          "text": [
            "0.2 0.5 0.3\n",
            "unbalanced\n"
          ]
        }
      ]
    },
    {
      "cell_type": "markdown",
      "metadata": {
        "id": "SApZEEWloqtU"
      },
      "source": [
        "A3. If your data contains categorical features, find if there exists a scenario where the class \n",
        "conditional density could become zero. Find mechanisms to handle the scenario."
      ]
    },
    {
      "cell_type": "code",
      "metadata": {
        "id": "g_vXrmbootwT"
      },
      "source": [
        "# Data does not contain categorical features\n",
        "# But it can be said that Class cond density will become 0 when\n",
        "# P(x|y)=0 or P(x intersection y) =0 \n",
        "# If that is the case , then class label can be removed"
      ],
      "execution_count": null,
      "outputs": []
    },
    {
      "cell_type": "markdown",
      "metadata": {
        "id": "HH55eoSVox2k"
      },
      "source": [
        "A4. Train a Naïve Bayes classifier on your data and observe the accuracy. Check the accuracy both for \n",
        "training & test sets and observe if the training results in a regular fit or overfit. Also check the \n",
        "confusion matrix.\n"
      ]
    },
    {
      "cell_type": "code",
      "metadata": {
        "colab": {
          "base_uri": "https://localhost:8080/"
        },
        "id": "y-VD6wzroygl",
        "outputId": "ca471a5f-f495-44d2-fb87-232ed55305ac"
      },
      "source": [
        "import numpy as np\n",
        "import matplotlib.pyplot as plt\n",
        "import pandas as pd\n",
        "\n",
        "import numpy as np\n",
        "from sklearn.model_selection import train_test_split\n",
        "X_train, X_test, y_train, y_test = train_test_split(Class, Class_label, test_size=0.2)\n",
        "\n",
        "\n",
        "# Feature Scaling\n",
        "from sklearn.preprocessing import StandardScaler\n",
        "sc = StandardScaler()\n",
        "X_train = sc.fit_transform(X_train)\n",
        "X_test = sc.transform(X_test)\n",
        "\n",
        "# Training the Naive Bayes model on the Training set\n",
        "from sklearn.naive_bayes import GaussianNB\n",
        "classifier = GaussianNB()\n",
        "classifier.fit(X_train, y_train)\n",
        "\n",
        "# Predicting the Test set results\n",
        "y_pred = classifier.predict(X_test)\n",
        "\n",
        "# Making the Confusion Matrix\n",
        "from sklearn.metrics import confusion_matrix, accuracy_score\n",
        "ac = accuracy_score(y_test,y_pred)\n",
        "cm = confusion_matrix(y_test, y_pred)\n",
        "\n",
        "print(ac)\n",
        "print(cm)"
      ],
      "execution_count": null,
      "outputs": [
        {
          "output_type": "stream",
          "name": "stdout",
          "text": [
            "0.0\n",
            "[[0 2]\n",
            " [0 0]]\n"
          ]
        }
      ]
    },
    {
      "cell_type": "markdown",
      "metadata": {
        "id": "hdIEubdPoy8b"
      },
      "source": [
        "A5. Calculate precision and recall values for one of the classes. Cross check your calculated values \n",
        "against the system generated values and see if they match."
      ]
    },
    {
      "cell_type": "code",
      "metadata": {
        "colab": {
          "base_uri": "https://localhost:8080/",
          "height": 400
        },
        "id": "euRBiMT7o1RL",
        "outputId": "49564636-8249-4b57-9f6e-0d6d160e18f7"
      },
      "source": [
        "from sklearn import datasets\n",
        "\n",
        "from sklearn.metrics import precision_recall_curve\n",
        "from sklearn.metrics import plot_precision_recall_curve\n",
        "from sklearn.metrics import precision_score\n",
        "from sklearn.metrics import recall_score\n",
        "import matplotlib.pyplot as plt\n",
        " \n",
        "\n",
        "#calculating precision and reall\n",
        "precision = precision_score(y_test, y_pred)\n",
        "recall = recall_score(y_test, y_pred)\n",
        " \n",
        "print('Precision: ',precision)\n",
        "print('Recall: ',recall)\n",
        " \n",
        "#Plotting Precision-Recall Curve\n",
        "disp = plot_precision_recall_curve(classifier, X_test, y_test)\n"
      ],
      "execution_count": null,
      "outputs": [
        {
          "output_type": "stream",
          "name": "stdout",
          "text": [
            "Precision:  0.0\n",
            "Recall:  0.0\n"
          ]
        },
        {
          "output_type": "stream",
          "name": "stderr",
          "text": [
            "/usr/local/lib/python3.7/dist-packages/sklearn/metrics/_classification.py:1272: UndefinedMetricWarning: Recall is ill-defined and being set to 0.0 due to no true samples. Use `zero_division` parameter to control this behavior.\n",
            "  _warn_prf(average, modifier, msg_start, len(result))\n",
            "/usr/local/lib/python3.7/dist-packages/sklearn/metrics/_ranking.py:677: RuntimeWarning: invalid value encountered in true_divide\n",
            "  recall = tps / tps[-1]\n"
          ]
        },
        {
          "output_type": "display_data",
          "data": {
            "image/png": "[encoded data removed]",
            "text/plain": [
              "<Figure size 432x288 with 1 Axes>"
            ]
          },
          "metadata": {
            "needs_background": "light"
          }
        }
      ]
    },
    {
      "cell_type": "markdown",
      "metadata": {
        "id": "tvh4dyhZo1ik"
      },
      "source": [
        "A6. Merge your train & test sets and remove the class labels. Use k-means algorithm with k = 3 or 5\n",
        "(based on your dataset) to form the clusters."
      ]
    },
    {
      "cell_type": "code",
      "metadata": {
        "colab": {
          "base_uri": "https://localhost:8080/"
        },
        "id": "X3vaYfNpo4bd",
        "outputId": "6c0c8c9c-7846-476b-e4f6-aca5f39a6e20"
      },
      "source": [
        "from sklearn.cluster import KMeans\n",
        "import numpy as np\n",
        "\n",
        "kmeans = KMeans(n_clusters=5, random_state=0).fit(Class)\n",
        "kmeans.labels_\n",
        "\n",
        "# kmeans.predict()\n",
        "\n",
        "kmeans.cluster_centers_\n"
      ],
      "execution_count": null,
      "outputs": [
        {
          "output_type": "execute_result",
          "data": {
            "text/plain": [
              "array([[236.5       , 237.        , 237.5       , ..., 103.83333333,\n",
              "         97.5       ,  96.        ],\n",
              "       [180.22222222, 181.22222222, 181.22222222, ..., 103.88888889,\n",
              "         93.        ,  91.44444444],\n",
              "       [164.33333333, 163.33333333, 162.33333333, ..., 210.66666667,\n",
              "        212.66666667, 214.66666667],\n",
              "       [240.33333333, 242.83333333, 244.33333333, ..., 209.        ,\n",
              "        210.5       , 192.        ],\n",
              "       [ 91.33333333,  90.16666667,  89.66666667, ...,  93.16666667,\n",
              "         92.16666667,  71.66666667]])"
            ]
          },
          "metadata": {},
          "execution_count": 20
        }
      ]
    },
    {
      "cell_type": "code",
      "metadata": {
        "colab": {
          "base_uri": "https://localhost:8080/"
        },
        "id": "RyKGgS6keuuo",
        "outputId": "92ee52c0-8689-475c-c72f-88f2054383ba"
      },
      "source": [
        "print(kmeans.labels_)\n"
      ],
      "execution_count": null,
      "outputs": [
        {
          "output_type": "stream",
          "name": "stdout",
          "text": [
            "[0 4 1 3 0 2 1 3 4 1]\n"
          ]
        }
      ]
    }
  ]
}