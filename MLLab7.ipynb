{
  "nbformat": 4,
  "nbformat_minor": 0,
  "metadata": {
    "colab": {
      "name": "MLLab7.ipynb",
      "provenance": [],
      "authorship_tag": "ABX9TyPAzTQWQDpKU6fgzNJsGB8C",
      "include_colab_link": true
    },
    "kernelspec": {
      "name": "python3",
      "display_name": "Python 3"
    },
    "language_info": {
      "name": "python"
    }
  },
  "cells": [
    {
      "cell_type": "markdown",
      "metadata": {
        "id": "view-in-github",
        "colab_type": "text"
      },
      "source": [
        "<a href=\"https://colab.research.google.com/github/vishnuvkaimal/MLDocs/blob/main/MLLab7.ipynb\" target=\"_parent\"><img src=\"https://colab.research.google.com/assets/colab-badge.svg\" alt=\"Open In Colab\"/></a>"
      ]
    },
    {
      "cell_type": "markdown",
      "metadata": {
        "id": "gGQaOOrChqWY"
      },
      "source": [
        "**A1**. Divide dataset in your project into two parts – train & test set. To accomplish this, use the train\u0002test_split() function available in SciKit. See below sample code for help"
      ]
    },
    {
      "cell_type": "code",
      "metadata": {
        "id": "JIyJC6jQpI44"
      },
      "source": [
        "\n",
        "import pandas as pd\n",
        "import numpy as np\n",
        "import matplotlib.pyplot as plt\n",
        "%matplotlib inline\n",
        "from skimage.io import imread, imshow\n"
      ],
      "execution_count": null,
      "outputs": []
    },
    {
      "cell_type": "code",
      "metadata": {
        "colab": {
          "base_uri": "https://localhost:8080/"
        },
        "id": "YzW81tMbeHgV",
        "outputId": "ab1b7884-c995-4cf1-f7d0-57c9000dc1ee"
      },
      "source": [
        "# Class A\n",
        "imgAv1 = imread('2.jpg')\n",
        "feature_matriximgAv1 = np.zeros((256,256)) \n",
        "feature_matriximgAv1.shape\n",
        "for i in range(0,imgAv1.shape[0]):\n",
        "    for j in range(0,imgAv1.shape[1]):\n",
        "        feature_matriximgAv1[i][j] = ((int(imgAv1[i,j,0]) + int(imgAv1[i,j,1]) + int(imgAv1[i,j,2]))/3)\n",
        "featureAv1 = np.reshape(feature_matriximgAv1, (256*256))\n",
        "\n",
        "imgAv2 = imread('3.jpg')\n",
        "feature_matriximgAv2 = np.zeros((256,256)) \n",
        "feature_matriximgAv2.shape\n",
        "for i in range(0,imgAv2.shape[0]):\n",
        "    for j in range(0,imgAv2.shape[1]):\n",
        "        feature_matriximgAv2[i][j] = ((int(imgAv2[i,j,0]) + int(imgAv2[i,j,1]) + int(imgAv2[i,j,2]))/3)\n",
        "featureAv2 = np.reshape(feature_matriximgAv2, (256*256))\n",
        "\n",
        "imgAv3 = imread('4.jpg')\n",
        "feature_matriximgAv3 = np.zeros((256,256)) \n",
        "feature_matriximgAv3.shape\n",
        "for i in range(0,imgAv3.shape[0]):\n",
        "    for j in range(0,imgAv3.shape[1]):\n",
        "        feature_matriximgAv3[i][j] = ((int(imgAv3[i,j,0]) + int(imgAv3[i,j,1]) + int(imgAv3[i,j,2]))/3)\n",
        "featureAv3 = np.reshape(feature_matriximgAv3, (256*256))\n",
        "\n",
        "imgAv4 = imread('5.jpg')\n",
        "feature_matriximgAv4 = np.zeros((256,256)) \n",
        "feature_matriximgAv4.shape\n",
        "for i in range(0,imgAv4.shape[0]):\n",
        "    for j in range(0,imgAv4.shape[1]):\n",
        "        feature_matriximgAv4[i][j] = ((int(imgAv4[i,j,0]) + int(imgAv4[i,j,1]) + int(imgAv4[i,j,2]))/3)\n",
        "featureAv4 = np.reshape(feature_matriximgAv4, (256*256))\n",
        "\n",
        "imgAv5 = imread('6.jpg')\n",
        "feature_matriximgAv5 = np.zeros((256,256)) \n",
        "feature_matriximgAv5.shape\n",
        "for i in range(0,imgAv5.shape[0]):\n",
        "    for j in range(0,imgAv5.shape[1]):\n",
        "        feature_matriximgAv5[i][j] = ((int(imgAv5[i,j,0]) + int(imgAv5[i,j,1]) + int(imgAv5[i,j,2]))/3)\n",
        "featureAv5 = np.reshape(feature_matriximgAv5, (256*256))\n",
        "\n",
        "ClassA=np.array([featureAv1,featureAv2,featureAv3,featureAv4,featureAv5])\n",
        "\n",
        "print(ClassA)"
      ],
      "execution_count": null,
      "outputs": [
        {
          "output_type": "stream",
          "name": "stdout",
          "text": [
            "[[240.         242.         244.         ... 184.66666667 180.\n",
            "  184.        ]\n",
            " [ 61.          60.66666667  61.66666667 ...  72.66666667  70.66666667\n",
            "   68.66666667]\n",
            " [202.33333333 202.33333333 202.33333333 ... 113.33333333  70.33333333\n",
            "   80.33333333]\n",
            " [238.66666667 240.66666667 242.66666667 ... 225.33333333 224.66666667\n",
            "  184.66666667]\n",
            " [233.         232.         231.         ...  23.          15.\n",
            "    8.        ]]\n"
          ]
        }
      ]
    },
    {
      "cell_type": "code",
      "metadata": {
        "id": "aEmklsiwuOiu",
        "colab": {
          "base_uri": "https://localhost:8080/"
        },
        "outputId": "93e4bc10-05f5-49ae-c17d-f49c8c48fbe7"
      },
      "source": [
        "# Class B\n",
        "imgBv1 = imread('7.jpg')\n",
        "feature_matriximgBv1 = np.zeros((256,256)) \n",
        "feature_matriximgBv1.shape\n",
        "for i in range(0,imgBv1.shape[0]):\n",
        "    for j in range(0,imgBv1.shape[1]):\n",
        "        feature_matriximgBv1[i][j] = ((int(imgBv1[i,j,0]) + int(imgBv1[i,j,1]) + int(imgBv1[i,j,2]))/3)\n",
        "featureBv1 = np.reshape(feature_matriximgBv1, (256*256))\n",
        "\n",
        "imgBv2 = imread('8.jpg')\n",
        "feature_matriximgBv2 = np.zeros((256,256)) \n",
        "feature_matriximgBv2.shape\n",
        "for i in range(0,imgBv2.shape[0]):\n",
        "    for j in range(0,imgBv2.shape[1]):\n",
        "        feature_matriximgBv2[i][j] = ((int(imgBv2[i,j,0]) + int(imgBv2[i,j,1]) + int(imgBv2[i,j,2]))/3)\n",
        "featureBv2 = np.reshape(feature_matriximgBv2, (256*256))\n",
        "\n",
        "imgBv3 = imread('9.jpg')\n",
        "feature_matriximgBv3 = np.zeros((256,256)) \n",
        "feature_matriximgBv3.shape\n",
        "for i in range(0,imgBv3.shape[0]):\n",
        "    for j in range(0,imgBv3.shape[1]):\n",
        "        feature_matriximgBv3[i][j] = ((int(imgBv3[i,j,0]) + int(imgBv3[i,j,1]) + int(imgBv3[i,j,2]))/3)\n",
        "featureBv3 = np.reshape(feature_matriximgBv3, (256*256))\n",
        "\n",
        "imgBv4 = imread('10.jpg')\n",
        "feature_matriximgBv4 = np.zeros((256,256)) \n",
        "feature_matriximgBv4.shape\n",
        "for i in range(0,imgBv4.shape[0]):\n",
        "    for j in range(0,imgBv4.shape[1]):\n",
        "        feature_matriximgBv4[i][j] = ((int(imgBv4[i,j,0]) + int(imgBv4[i,j,1]) + int(imgBv4[i,j,2]))/3)\n",
        "featureBv4 = np.reshape(feature_matriximgBv4, (256*256))\n",
        "\n",
        "imgBv5 = imread('11.jpg')\n",
        "feature_matriximgBv5 = np.zeros((256,256)) \n",
        "feature_matriximgBv5.shape\n",
        "for i in range(0,imgBv5.shape[0]):\n",
        "    for j in range(0,imgBv5.shape[1]):\n",
        "        feature_matriximgBv5[i][j] = ((int(imgBv5[i,j,0]) + int(imgBv5[i,j,1]) + int(imgBv5[i,j,2]))/3)\n",
        "featureBv5 = np.reshape(feature_matriximgBv5, (256*256))\n",
        "\n",
        "ClassB=np.array([featureBv1,featureBv2,featureBv3,featureBv4,featureBv5])\n",
        "\n",
        "print(ClassB)"
      ],
      "execution_count": null,
      "outputs": [
        {
          "output_type": "stream",
          "name": "stdout",
          "text": [
            "[[164.33333333 163.33333333 162.33333333 ... 210.66666667 212.66666667\n",
            "  214.66666667]\n",
            " [130.         130.         130.         ...  96.33333333 122.66666667\n",
            "  103.66666667]\n",
            " [242.         245.         246.         ... 192.66666667 196.33333333\n",
            "  199.33333333]\n",
            " [121.66666667 119.66666667 117.66666667 ... 113.66666667 113.66666667\n",
            "   74.66666667]\n",
            " [208.33333333 211.33333333 211.33333333 ... 102.          86.\n",
            "   90.33333333]]\n"
          ]
        }
      ]
    },
    {
      "cell_type": "code",
      "metadata": {
        "colab": {
          "base_uri": "https://localhost:8080/"
        },
        "id": "LK-x2zC9WHux",
        "outputId": "79064a8b-f667-4eec-aebb-d6367213aa11"
      },
      "source": [
        "meanAv1=featureAv1.mean(axis=0)\n",
        "meanAv2=featureAv2.mean(axis=0)\n",
        "meanAv3=featureAv3.mean(axis=0)\n",
        "meanAv4=featureAv4.mean(axis=0)\n",
        "meanAv5=featureAv5.mean(axis=0)\n",
        "\n",
        "ClassA_label=np.array([meanAv1,meanAv2,meanAv3,meanAv4,meanAv5])\n",
        "print(ClassA_label)\n",
        "\n",
        "meanBv1=featureBv1.mean(axis=0)\n",
        "meanBv2=featureBv2.mean(axis=0)\n",
        "meanBv3=featureBv3.mean(axis=0)\n",
        "meanBv4=featureBv4.mean(axis=0)\n",
        "meanBv5=featureBv5.mean(axis=0)\n",
        "\n",
        "ClassB_label=np.array([meanBv1,meanBv2,meanBv3,meanBv4,meanBv5])\n",
        "print(ClassB_label)\n",
        "\n",
        "# for i in range(0,5):\n",
        "#   if ClassA_label[i]<100:\n",
        "#     ClassA_label[i]=0\n",
        "#   else:\n",
        "#     ClassA_label[i]=1\n",
        "\n",
        "for i in range(0,5):\n",
        "  if ClassA_label[i]<95:\n",
        "    ClassA_label[i]=-1\n",
        "  elif ClassA_label[i]<110:\n",
        "    ClassA_label[i]=0\n",
        "  else:\n",
        "    ClassA_label[i]=1\n",
        "\n",
        "for i in range(0,5):\n",
        "  if ClassB_label[i]<95:\n",
        "    ClassB_label[i]=-1\n",
        "  elif ClassB_label[i]<110:\n",
        "    ClassB_label[i]=0\n",
        "  else:\n",
        "    ClassB_label[i]=1\n",
        "\n",
        "print(ClassA_label)\n",
        "print(ClassB_label)"
      ],
      "execution_count": null,
      "outputs": [
        {
          "output_type": "stream",
          "name": "stdout",
          "text": [
            "[146.08732605  84.6669515  109.73945618 122.08019511 127.38117981]\n",
            "[127.17301432  92.02892049 119.04534403  90.80475871 106.46661886]\n",
            "[ 1. -1.  0.  1.  1.]\n",
            "[ 1. -1.  1. -1.  0.]\n"
          ]
        }
      ]
    },
    {
      "cell_type": "code",
      "metadata": {
        "id": "HN2_vud9IkcN"
      },
      "source": [
        "import numpy as np\n",
        "from sklearn.model_selection import train_test_split\n",
        "X_train, X_test, y_train, y_test = train_test_split(ClassA, ClassA_label, test_size=0.3)\n"
      ],
      "execution_count": null,
      "outputs": []
    },
    {
      "cell_type": "markdown",
      "metadata": {
        "id": "6JrihdHthvZ4"
      },
      "source": [
        "A2. Train a support vector machine using the training set obtained from above exercise. Following \n",
        "code for help:"
      ]
    },
    {
      "cell_type": "code",
      "metadata": {
        "id": "1_1xVuXThyEg",
        "colab": {
          "base_uri": "https://localhost:8080/"
        },
        "outputId": "46475062-4e14-4a01-f01d-122187687478"
      },
      "source": [
        "import numpy as np\n",
        "from sklearn import svm\n",
        "clf = svm.SVC()\n",
        "clf.fit(X_train, y_train)"
      ],
      "execution_count": null,
      "outputs": [
        {
          "output_type": "execute_result",
          "data": {
            "text/plain": [
              "SVC(C=1.0, break_ties=False, cache_size=200, class_weight=None, coef0=0.0,\n",
              "    decision_function_shape='ovr', degree=3, gamma='scale', kernel='rbf',\n",
              "    max_iter=-1, probability=False, random_state=None, shrinking=True,\n",
              "    tol=0.001, verbose=False)"
            ]
          },
          "metadata": {},
          "execution_count": 44
        }
      ]
    },
    {
      "cell_type": "markdown",
      "metadata": {
        "id": "ExWSVLFujfuY"
      },
      "source": [
        "A3. Test the accuracy of the SVM using the test set obtained from above exercise. Following code for \n",
        "help."
      ]
    },
    {
      "cell_type": "code",
      "metadata": {
        "id": "CAS4rs0ZjjXn",
        "colab": {
          "base_uri": "https://localhost:8080/"
        },
        "outputId": "f22bc138-7676-4267-ba8e-41104f4f4bd7"
      },
      "source": [
        "clf.score(X_test, y_test)\n"
      ],
      "execution_count": null,
      "outputs": [
        {
          "output_type": "execute_result",
          "data": {
            "text/plain": [
              "0.5"
            ]
          },
          "metadata": {},
          "execution_count": 45
        }
      ]
    },
    {
      "cell_type": "code",
      "metadata": {
        "colab": {
          "base_uri": "https://localhost:8080/"
        },
        "id": "q96fa6noPkVA",
        "outputId": "7db997ea-c2d3-4e1f-d74e-daf37cd2fea8"
      },
      "source": [
        "clf.predict(X_test)"
      ],
      "execution_count": null,
      "outputs": [
        {
          "output_type": "execute_result",
          "data": {
            "text/plain": [
              "array([1., 1.])"
            ]
          },
          "metadata": {},
          "execution_count": 46
        }
      ]
    },
    {
      "cell_type": "markdown",
      "metadata": {
        "id": "I-8b-5tijjvA"
      },
      "source": [
        "A4. Repeat the above classification exercise with kNN classifier (k =3). Below code for help."
      ]
    },
    {
      "cell_type": "code",
      "metadata": {
        "id": "RaIYUU5mjmvQ",
        "colab": {
          "base_uri": "https://localhost:8080/"
        },
        "outputId": "ed4175bd-301d-4132-ced9-955ca5293314"
      },
      "source": [
        "from sklearn.neighbors import KNeighborsClassifier\n",
        "neigh = KNeighborsClassifier(n_neighbors=3)\n",
        "neigh.fit(ClassA, ClassA_label)"
      ],
      "execution_count": null,
      "outputs": [
        {
          "output_type": "execute_result",
          "data": {
            "text/plain": [
              "KNeighborsClassifier(algorithm='auto', leaf_size=30, metric='minkowski',\n",
              "                     metric_params=None, n_jobs=None, n_neighbors=3, p=2,\n",
              "                     weights='uniform')"
            ]
          },
          "metadata": {},
          "execution_count": 47
        }
      ]
    },
    {
      "cell_type": "code",
      "metadata": {
        "colab": {
          "base_uri": "https://localhost:8080/"
        },
        "id": "TeNJYJZtQH91",
        "outputId": "a1dfbe42-e56a-446b-cc3a-3668ce63070d"
      },
      "source": [
        "neigh.score(ClassA, ClassA_label)\n"
      ],
      "execution_count": null,
      "outputs": [
        {
          "output_type": "execute_result",
          "data": {
            "text/plain": [
              "0.8"
            ]
          },
          "metadata": {},
          "execution_count": 51
        }
      ]
    },
    {
      "cell_type": "code",
      "metadata": {
        "colab": {
          "base_uri": "https://localhost:8080/"
        },
        "id": "4HvDe3B_QvWo",
        "outputId": "ccbcfb0f-aae9-46f5-a3b6-054f3af617fd"
      },
      "source": [
        "neigh.predict(ClassA)"
      ],
      "execution_count": null,
      "outputs": [
        {
          "output_type": "execute_result",
          "data": {
            "text/plain": [
              "array([ 1., -1., -1.,  1.,  1.])"
            ]
          },
          "metadata": {},
          "execution_count": 52
        }
      ]
    },
    {
      "cell_type": "markdown",
      "metadata": {
        "id": "knHLqbjXkOhP"
      },
      "source": [
        "A5. Make k = 1 to implement NN classifier and compare the results with kNN (k = 3). Vary k from 1 to \n",
        "11 and make an accuracy plot."
      ]
    },
    {
      "cell_type": "code",
      "metadata": {
        "id": "i8-xJIf3kR_R",
        "colab": {
          "base_uri": "https://localhost:8080/"
        },
        "outputId": "99d697fa-3814-4a44-8405-660d586aeb39"
      },
      "source": [
        "from sklearn.neighbors import KNeighborsClassifier\n",
        "neigh = KNeighborsClassifier(n_neighbors=1)\n",
        "neigh.fit(ClassA, ClassA_label)\n",
        "\n",
        "scorek1=neigh.score(ClassA, ClassA_label)\n",
        "predictk1=neigh.predict(ClassA)\n",
        "\n",
        "print(scorek1)\n",
        "print(predictk1)"
      ],
      "execution_count": null,
      "outputs": [
        {
          "output_type": "stream",
          "name": "stdout",
          "text": [
            "1.0\n",
            "[ 1. -1.  0.  1.  1.]\n"
          ]
        }
      ]
    },
    {
      "cell_type": "code",
      "metadata": {
        "colab": {
          "base_uri": "https://localhost:8080/"
        },
        "id": "Hlomg7YZT7Y6",
        "outputId": "b414c403-9272-4081-97e6-c304c884353f"
      },
      "source": [
        "# Combining two for more than 11 cases\n",
        "\n",
        "ClassUnion=np.concatenate((ClassA,ClassB),axis=0)\n",
        "# print(ClassUnion)\n",
        "\n",
        "\n",
        "imgBv1 = imread('12.jpg')\n",
        "feature_matriximgBv1 = np.zeros((256,256)) \n",
        "feature_matriximgBv1.shape\n",
        "for i in range(0,imgBv1.shape[0]):\n",
        "    for j in range(0,imgBv1.shape[1]):\n",
        "        feature_matriximgBv1[i][j] = ((int(imgBv1[i,j,0]) + int(imgBv1[i,j,1]) + int(imgBv1[i,j,2]))/3)\n",
        "feature1 = np.reshape(feature_matriximgBv1, (256*256))\n",
        "\n",
        "imgBv2 = imread('13.jpg')\n",
        "feature_matriximgBv2 = np.zeros((256,256)) \n",
        "feature_matriximgBv2.shape\n",
        "for i in range(0,imgBv2.shape[0]):\n",
        "    for j in range(0,imgBv2.shape[1]):\n",
        "        feature_matriximgBv2[i][j] = ((int(imgBv2[i,j,0]) + int(imgBv2[i,j,1]) + int(imgBv2[i,j,2]))/3)\n",
        "feature2 = np.reshape(feature_matriximgBv2, (256*256))\n",
        "\n",
        "Classcombine=np.array([feature1,feature2])\n",
        "# print(Classcombine)\n",
        "\n",
        "ClassFinal=np.concatenate((ClassUnion,Classcombine),axis=0)\n",
        "print(ClassFinal)\n"
      ],
      "execution_count": null,
      "outputs": [
        {
          "output_type": "stream",
          "name": "stdout",
          "text": [
            "[[240.         242.         244.         ... 184.66666667 180.\n",
            "  184.        ]\n",
            " [ 61.          60.66666667  61.66666667 ...  72.66666667  70.66666667\n",
            "   68.66666667]\n",
            " [202.33333333 202.33333333 202.33333333 ... 113.33333333  70.33333333\n",
            "   80.33333333]\n",
            " ...\n",
            " [208.33333333 211.33333333 211.33333333 ... 102.          86.\n",
            "   90.33333333]\n",
            " [198.66666667 198.66666667 198.66666667 ... 218.         223.66666667\n",
            "  226.33333333]\n",
            " [244.66666667 245.66666667 247.66666667 ... 216.         218.\n",
            "  220.        ]]\n"
          ]
        }
      ]
    },
    {
      "cell_type": "code",
      "metadata": {
        "colab": {
          "base_uri": "https://localhost:8080/"
        },
        "id": "hnYIqWiqXs2Y",
        "outputId": "56dbba5b-913c-402d-f529-78c0035bf1db"
      },
      "source": [
        "ClassUnion_label=np.concatenate((ClassA_label,ClassB_label),axis=0)\n",
        "# print(ClassUnion_label)\n",
        "\n",
        "mean1=feature1.mean(axis=0)\n",
        "mean2=feature2.mean(axis=0)\n",
        "Classcombine_label=np.array([mean1,mean2])\n",
        "# print(Classcombine_label)\n",
        "\n",
        "for i in range(0,2):\n",
        "  if Classcombine_label[i]<95:\n",
        "    Classcombine_label[i]=-1\n",
        "  elif Classcombine_label[i]<110:\n",
        "    Classcombine_label[i]=0\n",
        "  else:\n",
        "    Classcombine_label[i]=1\n",
        "\n",
        "# print(Classcombine_label)\n",
        "\n",
        "ClassFinal_label=np.concatenate((ClassUnion_label,Classcombine_label),axis=0)\n",
        "print(ClassFinal_label)"
      ],
      "execution_count": null,
      "outputs": [
        {
          "output_type": "stream",
          "name": "stdout",
          "text": [
            "[ 1. -1.  0.  1.  1.  1. -1.  1. -1.  0.  1.  1.]\n"
          ]
        }
      ]
    },
    {
      "cell_type": "code",
      "metadata": {
        "colab": {
          "base_uri": "https://localhost:8080/",
          "height": 300
        },
        "id": "7X1537qZSP48",
        "outputId": "7c4ae628-ba7f-4d3f-95ac-2323d5c60a16"
      },
      "source": [
        "\n",
        "import matplotlib.pyplot as plt\n",
        "%matplotlib inline\n",
        "\n",
        "\n",
        "score = np.zeros(11)\n",
        "\n",
        "\n",
        "for i in range(1,12):\n",
        "  neigh = KNeighborsClassifier(n_neighbors=i)\n",
        "  neigh.fit(ClassFinal, ClassFinal_label)\n",
        "  score[i-1]=neigh.score(ClassFinal, ClassFinal_label)\n",
        "\n",
        "\n",
        "print(score)\n",
        "\n",
        "plt.plot(score)\n",
        "plt.show()"
      ],
      "execution_count": null,
      "outputs": [
        {
          "output_type": "stream",
          "name": "stdout",
          "text": [
            "[1.         0.91666667 1.         0.91666667 0.91666667 0.83333333\n",
            " 0.83333333 0.83333333 0.58333333 0.58333333 0.58333333]\n"
          ]
        },
        {
          "output_type": "display_data",
          "data": {
            "image/png": "[encoded data removed]",
            "text/plain": [
              "<Figure size 432x288 with 1 Axes>"
            ]
          },
          "metadata": {
            "needs_background": "light"
          }
        }
      ]
    }
  ]
}