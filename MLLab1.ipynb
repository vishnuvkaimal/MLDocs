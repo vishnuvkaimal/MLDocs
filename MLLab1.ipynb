{
  "nbformat": 4,
  "nbformat_minor": 0,
  "metadata": {
    "colab": {
      "name": "MLLab1.ipynb",
      "provenance": [],
      "authorship_tag": "ABX9TyMJ8LKU/gmhnXQ01kADN8qV"
    },
    "kernelspec": {
      "name": "python3",
      "display_name": "Python 3"
    },
    "language_info": {
      "name": "python"
    }
  },
  "cells": [
    {
      "cell_type": "code",
      "metadata": {
        "colab": {
          "base_uri": "https://localhost:8080/"
        },
        "id": "PiKvNOceaFD8",
        "outputId": "75e2ba25-ba0c-446f-c2e1-492419a74547"
      },
      "source": [
        "import pandas as pd\n",
        "import numpy as np\n",
        " \n",
        "A = np.array(pd.read_excel('/content/Lab Session1 Data.xlsx', index_col=None, na_values=['NA'] ,usecols=\"B,C,D\")) \n",
        " \n",
        "B = np.array(pd.read_excel('/content/Lab Session1 Data.xlsx', index_col=None, na_values=['NA'] ,usecols=\"E\")) \n",
        " \n",
        "print(A)\n",
        "print(B)\n",
        "\n",
        "print(f\"The dimension of Matrix A is : {A.ndim}\")"
      ],
      "execution_count": null,
      "outputs": [
        {
          "output_type": "stream",
          "text": [
            "[[20  6  2]\n",
            " [16  3  6]\n",
            " [27  6  2]\n",
            " [19  1  2]\n",
            " [24  4  2]\n",
            " [22  1  5]\n",
            " [15  4  2]\n",
            " [18  4  2]\n",
            " [21  1  4]\n",
            " [16  2  4]]\n",
            "[[386]\n",
            " [289]\n",
            " [393]\n",
            " [110]\n",
            " [280]\n",
            " [167]\n",
            " [271]\n",
            " [274]\n",
            " [148]\n",
            " [198]]\n",
            "The dimension of Matrix A is : 2\n"
          ],
          "name": "stdout"
        }
      ]
    },
    {
      "cell_type": "code",
      "metadata": {
        "colab": {
          "base_uri": "https://localhost:8080/"
        },
        "id": "g9SZoaMmbg0M",
        "outputId": "073973e0-1601-477e-f834-c360615c218c"
      },
      "source": [
        "import pandas as pd\n",
        "import numpy as np\n",
        " \n",
        "A = np.array(pd.read_excel('/content/Lab Session1 Data.xlsx', index_col=None, na_values=['NA'] ,usecols=\"B,C,D\")) \n",
        " \n",
        "B = np.array(pd.read_excel('/content/Lab Session1 Data.xlsx', index_col=None, na_values=['NA'] ,usecols=\"E\")) \n",
        " \n",
        "print(A)\n",
        "print(B)\n",
        "res=np.dot(np.linalg.pinv(A),B)\n",
        "print(res)"
      ],
      "execution_count": null,
      "outputs": [
        {
          "output_type": "stream",
          "text": [
            "[[20  6  2]\n",
            " [16  3  6]\n",
            " [27  6  2]\n",
            " [19  1  2]\n",
            " [24  4  2]\n",
            " [22  1  5]\n",
            " [15  4  2]\n",
            " [18  4  2]\n",
            " [21  1  4]\n",
            " [16  2  4]]\n",
            "[[386]\n",
            " [289]\n",
            " [393]\n",
            " [110]\n",
            " [280]\n",
            " [167]\n",
            " [271]\n",
            " [274]\n",
            " [148]\n",
            " [198]]\n",
            "[[ 1.]\n",
            " [55.]\n",
            " [18.]]\n"
          ],
          "name": "stdout"
        }
      ]
    },
    {
      "cell_type": "code",
      "metadata": {
        "colab": {
          "base_uri": "https://localhost:8080/"
        },
        "id": "UgoUmMybedKA",
        "outputId": "2aa9615e-e554-44d5-bde0-90cec8e1c34c"
      },
      "source": [
        "import numpy as np\n",
        "from numpy.linalg import svd\n",
        "from numpy.linalg import matrix_rank as rank\n",
        "from scipy.linalg import diagsvd\n",
        "\n",
        " \n",
        "\n",
        "\n",
        "A = np.matrix([[20,6,2] , [16,3,6] , [27,6,2] , [19,1,2] , [24,4,2] , [22,1,5] , [15,4,2] , [18,4,2] , [21,1,4] , [16,2,4]])\n",
        "B = np.matrix([[386] , [289] , [393] , [110] , [280] , [167] , [271] , [274] , [148] , [198]])\n",
        "X = np.linalg.pinv(A.T.dot(A)).dot(A.T).dot(B)\n",
        "\n",
        " \n",
        "\n",
        "\n",
        "print(\"A:\\n\",A)\n",
        "print(\"B:\\n\",B)\n",
        "print(rank(A))\n",
        "print(\"X:\\n\",X)"
      ],
      "execution_count": null,
      "outputs": [
        {
          "output_type": "stream",
          "text": [
            "A:\n",
            " [[20  6  2]\n",
            " [16  3  6]\n",
            " [27  6  2]\n",
            " [19  1  2]\n",
            " [24  4  2]\n",
            " [22  1  5]\n",
            " [15  4  2]\n",
            " [18  4  2]\n",
            " [21  1  4]\n",
            " [16  2  4]]\n",
            "B:\n",
            " [[386]\n",
            " [289]\n",
            " [393]\n",
            " [110]\n",
            " [280]\n",
            " [167]\n",
            " [271]\n",
            " [274]\n",
            " [148]\n",
            " [198]]\n",
            "3\n",
            "X:\n",
            " [[ 1.]\n",
            " [55.]\n",
            " [18.]]\n"
          ],
          "name": "stdout"
        }
      ]
    },
    {
      "cell_type": "code",
      "metadata": {
        "colab": {
          "base_uri": "https://localhost:8080/",
          "height": 973
        },
        "id": "WViWO7b7hFsD",
        "outputId": "2da83052-b003-4ec5-c8e1-b15ad44ad04f"
      },
      "source": [
        "import pandas as pd\n",
        "import statsmodels.api as sm\n",
        "import matplotlib.pyplot as plt\n",
        "import matplotlib.pyplot as plt\n",
        " \n",
        "df = pd.ExcelFile('Lab Session1 Data.xlsx')\n",
        "df1= pd.read_excel(df,'Purchase data')\n",
        "df2= pd.read_excel(df,'IRCTC Stock Price')\n",
        "\n",
        "#Extra dataset to define Price to calculate central tendencies \n",
        "df3=df2['Price']\n",
        "k=df2['Price'].var()\n",
        "t=df2['Price'].mean()\n",
        " \n",
        "print(k)\n",
        "print(t)\n",
        "\n",
        "#To find wednesday \n",
        "df5=df2[df2['Day']=='Wed']\n",
        "df5['Price'].mean()\n",
        " \n",
        "print(df2['Price'].mean()-df5['Price'].mean())\n",
        " \n",
        "df6 = df2[df2['Month'] == 'Apr']\n",
        "print(df6['Price'].mean())\n",
        " \n",
        "print(df2['Price'].mean()-df6['Price'].mean())\n",
        " \n",
        "print(df2[df2['Chg%']<0].count()/df2.count())\n",
        " \n",
        "print(df5[df5['Chg%']>0].count()/df5.count())\n",
        " \n",
        "print(df5[df5['Chg%']>0].count()/df2.count())\n",
        " \n",
        "print(plt.scatter(df2['Chg%'],df2['Day']))\n",
        "print(plt.title(\"Chg% data against the day of the week\"))\n",
        " \n",
        "print(plt.scatter(df2['Chg%'],df2['Price']))"
      ],
      "execution_count": null,
      "outputs": [
        {
          "output_type": "stream",
          "text": [
            "/usr/local/lib/python3.7/dist-packages/statsmodels/tools/_testing.py:19: FutureWarning: pandas.util.testing is deprecated. Use the functions in the public API at pandas.testing instead.\n",
            "  import pandas.util.testing as tm\n"
          ],
          "name": "stderr"
        },
        {
          "output_type": "stream",
          "text": [
            "58732.36535253922\n",
            "1560.6634538152598\n",
            "9.957453815259441\n",
            "1698.9526315789474\n",
            "-138.28917776368758\n",
            "Date      0.497992\n",
            "Month     0.497992\n",
            "Day       0.497992\n",
            "Price     0.497992\n",
            "Open      0.497992\n",
            "High      0.497992\n",
            "Low       0.497992\n",
            "Volume    0.497992\n",
            "Chg%      0.497992\n",
            "dtype: float64\n",
            "Date      0.42\n",
            "Month     0.42\n",
            "Day       0.42\n",
            "Price     0.42\n",
            "Open      0.42\n",
            "High      0.42\n",
            "Low       0.42\n",
            "Volume    0.42\n",
            "Chg%      0.42\n",
            "dtype: float64\n",
            "Date      0.084337\n",
            "Month     0.084337\n",
            "Day       0.084337\n",
            "Price     0.084337\n",
            "Open      0.084337\n",
            "High      0.084337\n",
            "Low       0.084337\n",
            "Volume    0.084337\n",
            "Chg%      0.084337\n",
            "dtype: float64\n",
            "<matplotlib.collections.PathCollection object at 0x7f9f974be410>\n",
            "Text(0.5, 1.0, 'Chg% data against the day of the week')\n",
            "<matplotlib.collections.PathCollection object at 0x7f9f974be2d0>\n"
          ],
          "name": "stdout"
        },
        {
          "output_type": "display_data",
          "data": {
            "image/png": "[encoded data removed]",
            "text/plain": [
              "<Figure size 432x288 with 1 Axes>"
            ]
          },
          "metadata": {
            "tags": [],
            "needs_background": "light"
          }
        }
      ]
    }
  ]
}