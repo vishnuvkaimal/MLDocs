{
  "nbformat": 4,
  "nbformat_minor": 0,
  "metadata": {
    "colab": {
      "name": "MLLab5.ipynb",
      "provenance": [],
      "collapsed_sections": [],
      "authorship_tag": "ABX9TyP9K1LIWJzbfV6kjiJ84XL9"
    },
    "kernelspec": {
      "name": "python3",
      "display_name": "Python 3"
    },
    "language_info": {
      "name": "python"
    }
  },
  "cells": [
    {
      "cell_type": "code",
      "metadata": {
        "id": "MwOrRCq5whaj"
      },
      "source": [
        "import numpy as np\n",
        "import pandas as pd\n",
        "\n",
        "import matplotlib.pyplot as plt\n",
        "%matplotlib inline\n",
        "\n",
        "import PIL\n",
        "import sympy \n",
        "from statistics import mean\n",
        "from plotly.subplots import make_subplots\n",
        "import plotly.graph_objects as go\n",
        "import random\n",
        "import time\n",
        "\n",
        "import math\n",
        "\n"
      ],
      "execution_count": null,
      "outputs": []
    },
    {
      "cell_type": "code",
      "metadata": {
        "id": "QB8NKg-DzZ2F"
      },
      "source": [
        "# Errror Cross check\n",
        "\n",
        "def sign_activation(yin):\n",
        "  t=yin\n",
        "  if yin > 0:\n",
        "    t = 1\n",
        "  elif yin == 0:\n",
        "    t = 0\n",
        "  elif yin < 0:\n",
        "    t= -1\n",
        "\n",
        "  return t\n",
        "    \n",
        "def Relu_activation(y):\n",
        "    if y > 0:\n",
        "        return y\n",
        "    else:\n",
        "        return 0\n",
        "\n",
        "\n",
        "def sigmoid_activation(y):\n",
        "    y = 1/(1+np.exp(-y))\n",
        "    if y > 0:\n",
        "        return 1\n",
        "    elif y < 0:\n",
        "        return -1\n",
        "    elif y == 0.5:\n",
        "        return 0\n",
        "\n",
        "# Testing block\n",
        "# a=sign_activation(0)\n",
        "# print(a)"
      ],
      "execution_count": null,
      "outputs": []
    },
    {
      "cell_type": "code",
      "metadata": {
        "id": "aw_DrkZLeDqZ",
        "colab": {
          "base_uri": "https://localhost:8080/"
        },
        "outputId": "6774095a-772a-4128-a660-aaa13f21a540"
      },
      "source": [
        "\n",
        "\n",
        "# Step 4\n",
        "def perceptron(x, w, b):\n",
        "    yin = np.dot(w, x) + b\n",
        "    y = sigmoid_activation(yin)\n",
        "    # print(yin)\n",
        "    return yin\n",
        "\n",
        "# Testing block\n",
        "xcase=np.array([[ 1, 2, 3], [ 4, 2, 5]])\n",
        "t1=[xcase[0][0], xcase[0][1]]\n",
        "t2=[xcase[1][0], xcase[1][1]]\n",
        "x=[t1,t2]\n",
        "w=[0.2,0.3]\n",
        "b=10\n",
        "a=perceptron(x[0],w,b)\n",
        "print(a)"
      ],
      "execution_count": null,
      "outputs": [
        {
          "output_type": "stream",
          "text": [
            "10.8\n"
          ],
          "name": "stdout"
        }
      ]
    },
    {
      "cell_type": "code",
      "metadata": {
        "colab": {
          "base_uri": "https://localhost:8080/",
          "height": 294
        },
        "id": "bRuWKV7zBIME",
        "outputId": "32d0c3ad-cbbb-4345-c67a-3fa17ec837d7"
      },
      "source": [
        "b=10\n",
        "learnRate=0.05   #learning rate (α) = 0.05\n",
        "w=[0.2,-0.75]\n",
        "\n",
        "x=[[0,0],[0,1],[1,0],[1,1]]\n",
        "t=[0,0,0,1]\n",
        "\n",
        "errEpoch=[]\n",
        "\n",
        "count=0\n",
        "\n",
        "# #\n",
        "# for inp in range(0,1000):\n",
        "#    \n",
        "#     for i in range(0,4): \n",
        "# np.insert\n",
        "\n",
        "\n",
        "for i in range(0,1000):\n",
        "    e=0\n",
        "    for j in range(0,len(x)):\n",
        "        yin=perceptron(x[j],w,b)\n",
        "        y=1/(1+math.exp(-yin))\n",
        "        e+=(t[j]-y)*(t[j]-y)\n",
        "        if y!=t[j]:\n",
        "            for k in range(0,len(x[j])):\n",
        "                w[k]+=(learnRate*(t[j])*x[j][k])\n",
        "            b+=learnRate*(t[j])\n",
        "    errEpoch.append(e)\n",
        "    if e<=0.002:\n",
        "        break\n",
        "    count+=1\n",
        "print(\"number of epochs taken:\",count)\n",
        "plt.plot(errEpoch)\n",
        "plt.show()"
      ],
      "execution_count": null,
      "outputs": [
        {
          "output_type": "stream",
          "text": [
            "number of epochs taken: 1000\n"
          ],
          "name": "stdout"
        },
        {
          "output_type": "display_data",
          "data": {
            "image/png": "[encoded data removed]",
            "text/plain": [
              "<Figure size 432x288 with 1 Axes>"
            ]
          },
          "metadata": {
            "needs_background": "light"
          }
        }
      ]
    },
    {
      "cell_type": "code",
      "metadata": {
        "colab": {
          "base_uri": "https://localhost:8080/",
          "height": 283
        },
        "id": "fHl-zXrK_8DT",
        "outputId": "ac0e3074-5b03-4450-ed29-1f33a6ade33e"
      },
      "source": [
        "# W0 = 10, W1 = 0.2, w2 = -0.75, learning rate (α) = 0.05\n",
        "\n",
        "import numpy as np\n",
        "import matplotlib.pyplot as plt\n",
        "\n",
        "b=10\n",
        "learnRate=0.05   #learning rate (α) = 0.05\n",
        "w=[0.2,-0.75]\n",
        "\n",
        "x=[[0,0],[0,1],[1,0],[1,1]]\n",
        "t=[0,0,0,1]\n",
        "\n",
        "errEpoch=[]\n",
        "\n",
        "count=0\n",
        "# #\n",
        "# for epoch in range(0,1000):\n",
        "#    \n",
        "#     for i in range(0,4): \n",
        "\n",
        "\n",
        "\n",
        "\n",
        "for i in range(0,1000):\n",
        "    e=0\n",
        "    for j in range(0,len(x)):\n",
        "        yin=perceptron(x[j],w,b)\n",
        "        if yin>=0:\n",
        "            y=1\n",
        "        else:\n",
        "            y=0\n",
        "        e+=(t[j]-y)*(t[j]-y)\n",
        "        if y!=t[j]:\n",
        "            for k in range(0,len(x[j])):\n",
        "                w[k]+=(learnRate*(t[j])*x[j][k])\n",
        "            b+=learnRate*(t[j])\n",
        "    errEpoch.append(e)\n",
        "    if e<=0.002:\n",
        "        break\n",
        "    count+=1\n",
        "\n",
        "\n",
        "\n",
        "print(\"number of epochs taken:\",count)\n",
        "plt.plot(errEpoch)\n",
        "plt.show()"
      ],
      "execution_count": null,
      "outputs": [
        {
          "output_type": "stream",
          "text": [
            "number of epochs taken: 129\n"
          ],
          "name": "stdout"
        },
        {
          "output_type": "display_data",
          "data": {
            "image/png": "[encoded data removed]",
            "text/plain": [
              "<Figure size 432x288 with 1 Axes>"
            ]
          },
          "metadata": {
            "needs_background": "light"
          }
        }
      ]
    },
    {
      "cell_type": "code",
      "metadata": {
        "colab": {
          "base_uri": "https://localhost:8080/",
          "height": 283
        },
        "id": "REw8ACwUCU91",
        "outputId": "87890e39-3d52-45ee-94d9-113a231bcea3"
      },
      "source": [
        "\n",
        "import numpy as np\n",
        "import matplotlib.pyplot as plt\n",
        "\n",
        "b=10\n",
        "learnRate=0.05  \n",
        "w=[0.2,-0.75]\n",
        "\n",
        "x=[[0,0],[0,1],[1,0],[1,1]]\n",
        "t=[0,0,0,1]\n",
        "\n",
        "errEpoch=[]\n",
        "\n",
        "count=0\n",
        "\n",
        "\n",
        "\n",
        "for i in range(0,1000):\n",
        "    e=0\n",
        "    for j in range(0,len(x)):\n",
        "        yin=perceptron(x[j],w,b)\n",
        "        if yin>=0:\n",
        "            y=yin\n",
        "        else:\n",
        "            y=0\n",
        "        e+=(t[j]-y)*(t[j]-y)\n",
        "\n",
        "\n",
        "        if y!=t[j]:\n",
        "            for k in range(0,len(x[j])):\n",
        "                w[k]+=(learnRate*(t[j])*x[j][k])\n",
        "            b+=learnRate*(t[j])\n",
        "    errEpoch.append(e)\n",
        "    if e<=0.002:\n",
        "        break\n",
        "    count+=1\n",
        "print(\"number of epochs taken:\",count)\n",
        "plt.plot(errEpoch)\n",
        "plt.show()"
      ],
      "execution_count": null,
      "outputs": [
        {
          "output_type": "stream",
          "text": [
            "number of epochs taken: 1000\n"
          ],
          "name": "stdout"
        },
        {
          "output_type": "display_data",
          "data": {
            "image/png": "[encoded data removed]",
            "text/plain": [
              "<Figure size 432x288 with 1 Axes>"
            ]
          },
          "metadata": {
            "needs_background": "light"
          }
        }
      ]
    },
    {
      "cell_type": "code",
      "metadata": {
        "colab": {
          "base_uri": "https://localhost:8080/",
          "height": 283
        },
        "id": "glizcEzvGK1o",
        "outputId": "52defe4c-5461-4105-b506-5bf409ce9522"
      },
      "source": [
        "b=10\n",
        "\n",
        "w=[0.2,-0.75]\n",
        "\n",
        "x=[[0,0],[0,1],[1,0],[1,1]]\n",
        "t=[0,0,0,1]\n",
        "val=[0.1,0.2,0.3,0.4,0.5,0.6,0.7,0.8,0.9,1]\n",
        "errEpoch=[]\n",
        "\n",
        "count=0\n",
        "\n",
        "\n",
        "for rate in range(0,len(val)):\n",
        "  for i in range(0,1000):\n",
        "    e=0\n",
        "    for j in range(0,len(x)):\n",
        "      yin=perceptron(x[j],w,b)\n",
        "      if yin>=0:\n",
        "        y=1\n",
        "      else:\n",
        "        y=0\n",
        "      e+=(t[j]-y)*(t[j]-y)\n",
        "      if y!=t[j]:\n",
        "        for k in range(0,len(x[j])):\n",
        "          w[k]+=(rate*(t[j])*x[j][k])\n",
        "        b+=rate*(t[j])\n",
        "    errEpoch.append(e)\n",
        "    if e<=0.002:\n",
        "      break\n",
        "    count+=1\n",
        "      \n",
        "\n",
        "print(\"number of epochs taken:\",count)\n",
        "plt.plot(errEpoch)\n",
        "plt.show()"
      ],
      "execution_count": null,
      "outputs": [
        {
          "output_type": "stream",
          "text": [
            "number of epochs taken: 10000\n"
          ],
          "name": "stdout"
        },
        {
          "output_type": "display_data",
          "data": {
            "image/png": "[encoded data removed]",
            "text/plain": [
              "<Figure size 432x288 with 1 Axes>"
            ]
          },
          "metadata": {
            "needs_background": "light"
          }
        }
      ]
    },
    {
      "cell_type": "markdown",
      "metadata": {
        "id": "vJl2TnFNJgbA"
      },
      "source": [
        "4"
      ]
    },
    {
      "cell_type": "code",
      "metadata": {
        "colab": {
          "base_uri": "https://localhost:8080/",
          "height": 283
        },
        "id": "lzNn9XgTJNPw",
        "outputId": "941a33c9-ea2c-42b9-bc8e-32d1df46a8bd"
      },
      "source": [
        "# XOR gate\n",
        "\n",
        "\n",
        "import numpy as np\n",
        "import matplotlib.pyplot as plt\n",
        "\n",
        "b=10\n",
        "learnRate=0.05   #learning rate (α) = 0.05\n",
        "w=[0.2,-0.75]\n",
        "\n",
        "x=[[0,0],[0,1],[1,0],[1,1]]\n",
        "t=[0,1,1,0]\n",
        "\n",
        "errEpoch=[]\n",
        "\n",
        "count=0\n",
        "\n",
        "\n",
        "\n",
        "\n",
        "for i in range(0,1000):\n",
        "    e=0\n",
        "    for j in range(0,len(x)):\n",
        "        yin=perceptron(x[j],w,b)\n",
        "        if yin>=0:\n",
        "            y=1\n",
        "        else:\n",
        "            y=0\n",
        "        e+=(t[j]-y)*(t[j]-y)\n",
        "        if y!=t[j]:\n",
        "            for k in range(0,len(x[j])):\n",
        "                w[k]+=(learnRate*(t[j])*x[j][k])\n",
        "            b+=learnRate*(t[j]-y)\n",
        "    errEpoch.append(e)\n",
        "    if e<=0.002:\n",
        "        break\n",
        "    count+=1\n",
        "print(\"number of epochs taken:\",count)\n",
        "plt.plot(errEpoch)\n",
        "plt.show()"
      ],
      "execution_count": null,
      "outputs": [
        {
          "output_type": "stream",
          "text": [
            "number of epochs taken: 1000\n"
          ],
          "name": "stdout"
        },
        {
          "output_type": "display_data",
          "data": {
            "image/png": "[encoded data removed]",
            "text/plain": [
              "<Figure size 432x288 with 1 Axes>"
            ]
          },
          "metadata": {
            "needs_background": "light"
          }
        }
      ]
    },
    {
      "cell_type": "code",
      "metadata": {
        "colab": {
          "base_uri": "https://localhost:8080/",
          "height": 294
        },
        "id": "ILCva_lIKsJy",
        "outputId": "d0c73de2-21e1-4992-dcd0-95dc379d835a"
      },
      "source": [
        "b=10\n",
        "learnRate=0.05   #learning rate (α) = 0.05\n",
        "w=[0.2,-0.75]\n",
        "\n",
        "x=[[0,0],[0,1],[1,0],[1,1]]\n",
        "t=[0,1,1,0]\n",
        "\n",
        "errEpoch=[]\n",
        "\n",
        "count=0\n",
        "\n",
        "for i in range(0,1000):\n",
        "    e=0\n",
        "    for j in range(0,len(x)):\n",
        "        yin=perceptron(x[j],w,b)\n",
        "        y=1/(1+math.exp(-yin))\n",
        "        e+=(t[j]-y)*(t[j]-y)\n",
        "        if y!=t[j]:\n",
        "            for k in range(0,len(x[j])):\n",
        "                w[k]+=(learnRate*(t[j])*x[j][k])\n",
        "            b+=learnRate*(t[j])\n",
        "    errEpoch.append(e)\n",
        "    if e<=0.002:\n",
        "        break\n",
        "    count+=1\n",
        "print(\"number of epochs taken:\",count)\n",
        "plt.plot(errEpoch)\n",
        "plt.show()"
      ],
      "execution_count": null,
      "outputs": [
        {
          "output_type": "stream",
          "text": [
            "number of epochs taken: 1000\n"
          ],
          "name": "stdout"
        },
        {
          "output_type": "display_data",
          "data": {
            "image/png": "[encoded data removed]",
            "text/plain": [
              "<Figure size 432x288 with 1 Axes>"
            ]
          },
          "metadata": {
            "needs_background": "light"
          }
        }
      ]
    },
    {
      "cell_type": "code",
      "metadata": {
        "colab": {
          "base_uri": "https://localhost:8080/",
          "height": 283
        },
        "id": "hLvo8MlAKLPm",
        "outputId": "f2a37428-1b77-44d4-b302-6db86bf0571e"
      },
      "source": [
        "import numpy as np\n",
        "import matplotlib.pyplot as plt\n",
        "\n",
        "b=10\n",
        "learnRate=0.05  \n",
        "w=[0.2,-0.75]\n",
        "\n",
        "x=[[0,0],[0,1],[1,0],[1,1]]\n",
        "t=[0,1,1,0]\n",
        "\n",
        "errEpoch=[]\n",
        "\n",
        "count=0\n",
        "\n",
        "\n",
        "\n",
        "for i in range(0,1000):\n",
        "    e=0\n",
        "    for j in range(0,len(x)):\n",
        "        yin=perceptron(x[j],w,b)\n",
        "        if yin>=0:\n",
        "            y=yin\n",
        "        else:\n",
        "            y=0\n",
        "        e+=(t[j]-y)*(t[j]-y)\n",
        "\n",
        "\n",
        "        if y!=t[j]:\n",
        "            for k in range(0,len(x[j])):\n",
        "                w[k]+=(learnRate*(t[j])*x[j][k])\n",
        "            b+=learnRate*(t[j])\n",
        "    errEpoch.append(e)\n",
        "    if e<=0.002:\n",
        "        break\n",
        "    count+=1\n",
        "print(\"number of epochs taken:\",count)\n",
        "plt.plot(errEpoch)\n",
        "plt.show()"
      ],
      "execution_count": null,
      "outputs": [
        {
          "output_type": "stream",
          "text": [
            "number of epochs taken: 1000\n"
          ],
          "name": "stdout"
        },
        {
          "output_type": "display_data",
          "data": {
            "image/png": "[encoded data removed]",
            "text/plain": [
              "<Figure size 432x288 with 1 Axes>"
            ]
          },
          "metadata": {
            "needs_background": "light"
          }
        }
      ]
    },
    {
      "cell_type": "code",
      "metadata": {
        "colab": {
          "base_uri": "https://localhost:8080/"
        },
        "id": "T-ZdYH5SMSGl",
        "outputId": "d3da9168-e285-40bf-b45c-55ffcb444703"
      },
      "source": [
        "import numpy as np\n",
        "from numpy.linalg import svd\n",
        "from numpy.linalg import matrix_rank as rank\n",
        "from scipy.linalg import diagsvd\n",
        "\n",
        " \n",
        "\n",
        "\n",
        "A = np.matrix([[20,6,2],[16,3,6],[27,6,2],[19,1,2],[24,4,2],[22,1,5],[15,4,2],[18,4,2],[21,1,4],[16,2,4]])\n",
        "B = np.matrix([[386] , [289] , [393] , [110] , [280] , [167] , [271] , [274] , [148] , [198]])\n",
        "X = np.linalg.pinv(A.T.dot(A)).dot(A.T).dot(B)\n",
        "\n",
        " \n",
        "\n",
        "\n",
        "print(\"A:\\n\",A)\n",
        "print(\"B:\\n\",B)\n",
        "print(rank(A))\n",
        "print(\"X:\\n\",X)"
      ],
      "execution_count": null,
      "outputs": [
        {
          "output_type": "stream",
          "text": [
            "A:\n",
            " [[20  6  2]\n",
            " [16  3  6]\n",
            " [27  6  2]\n",
            " [19  1  2]\n",
            " [24  4  2]\n",
            " [22  1  5]\n",
            " [15  4  2]\n",
            " [18  4  2]\n",
            " [21  1  4]\n",
            " [16  2  4]]\n",
            "B:\n",
            " [[386]\n",
            " [289]\n",
            " [393]\n",
            " [110]\n",
            " [280]\n",
            " [167]\n",
            " [271]\n",
            " [274]\n",
            " [148]\n",
            " [198]]\n",
            "3\n",
            "X:\n",
            " [[ 1.]\n",
            " [55.]\n",
            " [18.]]\n"
          ],
          "name": "stdout"
        }
      ]
    }
  ]
}