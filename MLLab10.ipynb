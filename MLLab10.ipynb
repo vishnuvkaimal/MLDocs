{
  "nbformat": 4,
  "nbformat_minor": 0,
  "metadata": {
    "colab": {
      "name": "MLLab10.ipynb",
      "provenance": [],
      "authorship_tag": "ABX9TyMUatCurzr+3IwsqDXZE8ec"
    },
    "kernelspec": {
      "name": "python3",
      "display_name": "Python 3"
    },
    "language_info": {
      "name": "python"
    }
  },
  "cells": [
    {
      "cell_type": "markdown",
      "metadata": {
        "id": "PFdBdwyWsodH"
      },
      "source": [
        "A1. Take any 2 features from your project having has real numeric values. Make a scatter plot of the \n",
        "data and observe the pattern."
      ]
    },
    {
      "cell_type": "code",
      "metadata": {
        "id": "fiLF6dhhrD51"
      },
      "source": [
        "import pandas as pd\n",
        "import numpy as np\n",
        "import matplotlib.pyplot as plt\n",
        "%matplotlib inline\n",
        "from skimage.io import imread, imshow"
      ],
      "execution_count": null,
      "outputs": []
    },
    {
      "cell_type": "code",
      "metadata": {
        "id": "ptlUvEVAtNY4"
      },
      "source": [
        "imgAv1 = imread('0.jpg')\n",
        "feature_matriximgAv1 = np.zeros((256,256)) \n",
        "feature_matriximgAv1.shape\n",
        "for i in range(0,imgAv1.shape[0]):\n",
        "    for j in range(0,imgAv1.shape[1]):\n",
        "        feature_matriximgAv1[i][j] = ((int(imgAv1[i,j,0]) + int(imgAv1[i,j,1]) + int(imgAv1[i,j,2]))/3)\n",
        "featureAv1 = np.reshape(feature_matriximgAv1, (256*256))\n",
        "\n",
        "imgAv2 = imread('1.jpg')\n",
        "feature_matriximgAv2 = np.zeros((256,256)) \n",
        "feature_matriximgAv2.shape\n",
        "for i in range(0,imgAv2.shape[0]):\n",
        "    for j in range(0,imgAv2.shape[1]):\n",
        "        feature_matriximgAv2[i][j] = ((int(imgAv2[i,j,0]) + int(imgAv2[i,j,1]) + int(imgAv2[i,j,2]))/3)\n",
        "featureAv2 = np.reshape(feature_matriximgAv2, (256*256))\n"
      ],
      "execution_count": null,
      "outputs": []
    },
    {
      "cell_type": "code",
      "metadata": {
        "colab": {
          "base_uri": "https://localhost:8080/",
          "height": 267
        },
        "id": "Magt5LTK5Gzt",
        "outputId": "30ad9e47-d8b3-4fc2-fce8-9297e728c2d7"
      },
      "source": [
        "import matplotlib.pyplot as plt\n",
        "  \n",
        "plt.scatter(featureAv1, featureAv2, c =\"blue\")\n",
        "plt.show()"
      ],
      "execution_count": null,
      "outputs": [
        {
          "output_type": "display_data",
          "data": {
            "image/png": "[encoded data removed]",
            "text/plain": [
              "<Figure size 432x288 with 1 Axes>"
            ]
          },
          "metadata": {
            "needs_background": "light"
          }
        }
      ]
    },
    {
      "cell_type": "markdown",
      "metadata": {
        "id": "5zS6oyp7sxvQ"
      },
      "source": [
        "A2. Create a linear regression model on this data. Consider using one feature as feature while the \n",
        "other as class label / value (you may also round this number to integer). After the model is created, \n",
        "calculate the mean square error by predicting the values from the model. Refer site: https://scikit\u0002learn.org/stable/auto_examples/linear_model/plot_ols.html."
      ]
    },
    {
      "cell_type": "code",
      "metadata": {
        "colab": {
          "base_uri": "https://localhost:8080/"
        },
        "id": "akBTfc58-mHA",
        "outputId": "64a20e07-cceb-4e87-b2eb-8a1739a2b0fe"
      },
      "source": [
        "# Class A\n",
        "imgAv1 = imread('2.jpg')\n",
        "feature_matriximgAv1 = np.zeros((256,256)) \n",
        "feature_matriximgAv1.shape\n",
        "for i in range(0,imgAv1.shape[0]):\n",
        "    for j in range(0,imgAv1.shape[1]):\n",
        "        feature_matriximgAv1[i][j] = ((int(imgAv1[i,j,0]) + int(imgAv1[i,j,1]) + int(imgAv1[i,j,2]))/3)\n",
        "featureAv1 = np.reshape(feature_matriximgAv1, (256*256))\n",
        "\n",
        "imgAv2 = imread('3.jpg')\n",
        "feature_matriximgAv2 = np.zeros((256,256)) \n",
        "feature_matriximgAv2.shape\n",
        "for i in range(0,imgAv2.shape[0]):\n",
        "    for j in range(0,imgAv2.shape[1]):\n",
        "        feature_matriximgAv2[i][j] = ((int(imgAv2[i,j,0]) + int(imgAv2[i,j,1]) + int(imgAv2[i,j,2]))/3)\n",
        "featureAv2 = np.reshape(feature_matriximgAv2, (256*256))\n",
        "\n",
        "imgAv3 = imread('4.jpg')\n",
        "feature_matriximgAv3 = np.zeros((256,256)) \n",
        "feature_matriximgAv3.shape\n",
        "for i in range(0,imgAv3.shape[0]):\n",
        "    for j in range(0,imgAv3.shape[1]):\n",
        "        feature_matriximgAv3[i][j] = ((int(imgAv3[i,j,0]) + int(imgAv3[i,j,1]) + int(imgAv3[i,j,2]))/3)\n",
        "featureAv3 = np.reshape(feature_matriximgAv3, (256*256))\n",
        "\n",
        "imgAv4 = imread('5.jpg')\n",
        "feature_matriximgAv4 = np.zeros((256,256)) \n",
        "feature_matriximgAv4.shape\n",
        "for i in range(0,imgAv4.shape[0]):\n",
        "    for j in range(0,imgAv4.shape[1]):\n",
        "        feature_matriximgAv4[i][j] = ((int(imgAv4[i,j,0]) + int(imgAv4[i,j,1]) + int(imgAv4[i,j,2]))/3)\n",
        "featureAv4 = np.reshape(feature_matriximgAv4, (256*256))\n",
        "\n",
        "imgAv5 = imread('6.jpg')\n",
        "feature_matriximgAv5 = np.zeros((256,256)) \n",
        "feature_matriximgAv5.shape\n",
        "for i in range(0,imgAv5.shape[0]):\n",
        "    for j in range(0,imgAv5.shape[1]):\n",
        "        feature_matriximgAv5[i][j] = ((int(imgAv5[i,j,0]) + int(imgAv5[i,j,1]) + int(imgAv5[i,j,2]))/3)\n",
        "featureAv5 = np.reshape(feature_matriximgAv5, (256*256))\n",
        "\n",
        "ClassA=np.array([featureAv1,featureAv2,featureAv3,featureAv4,featureAv5])\n",
        "\n",
        "print(ClassA)\n",
        "\n",
        "# Class B\n",
        "imgBv1 = imread('7.jpg')\n",
        "feature_matriximgBv1 = np.zeros((256,256)) \n",
        "feature_matriximgBv1.shape\n",
        "for i in range(0,imgBv1.shape[0]):\n",
        "    for j in range(0,imgBv1.shape[1]):\n",
        "        feature_matriximgBv1[i][j] = ((int(imgBv1[i,j,0]) + int(imgBv1[i,j,1]) + int(imgBv1[i,j,2]))/3)\n",
        "featureBv1 = np.reshape(feature_matriximgBv1, (256*256))\n",
        "\n",
        "imgBv2 = imread('8.jpg')\n",
        "feature_matriximgBv2 = np.zeros((256,256)) \n",
        "feature_matriximgBv2.shape\n",
        "for i in range(0,imgBv2.shape[0]):\n",
        "    for j in range(0,imgBv2.shape[1]):\n",
        "        feature_matriximgBv2[i][j] = ((int(imgBv2[i,j,0]) + int(imgBv2[i,j,1]) + int(imgBv2[i,j,2]))/3)\n",
        "featureBv2 = np.reshape(feature_matriximgBv2, (256*256))\n",
        "\n",
        "imgBv3 = imread('9.jpg')\n",
        "feature_matriximgBv3 = np.zeros((256,256)) \n",
        "feature_matriximgBv3.shape\n",
        "for i in range(0,imgBv3.shape[0]):\n",
        "    for j in range(0,imgBv3.shape[1]):\n",
        "        feature_matriximgBv3[i][j] = ((int(imgBv3[i,j,0]) + int(imgBv3[i,j,1]) + int(imgBv3[i,j,2]))/3)\n",
        "featureBv3 = np.reshape(feature_matriximgBv3, (256*256))\n",
        "\n",
        "imgBv4 = imread('10.jpg')\n",
        "feature_matriximgBv4 = np.zeros((256,256)) \n",
        "feature_matriximgBv4.shape\n",
        "for i in range(0,imgBv4.shape[0]):\n",
        "    for j in range(0,imgBv4.shape[1]):\n",
        "        feature_matriximgBv4[i][j] = ((int(imgBv4[i,j,0]) + int(imgBv4[i,j,1]) + int(imgBv4[i,j,2]))/3)\n",
        "featureBv4 = np.reshape(feature_matriximgBv4, (256*256))\n",
        "\n",
        "imgBv5 = imread('11.jpg')\n",
        "feature_matriximgBv5 = np.zeros((256,256)) \n",
        "feature_matriximgBv5.shape\n",
        "for i in range(0,imgBv5.shape[0]):\n",
        "    for j in range(0,imgBv5.shape[1]):\n",
        "        feature_matriximgBv5[i][j] = ((int(imgBv5[i,j,0]) + int(imgBv5[i,j,1]) + int(imgBv5[i,j,2]))/3)\n",
        "featureBv5 = np.reshape(feature_matriximgBv5, (256*256))\n",
        "\n",
        "ClassB=np.array([featureBv1,featureBv2,featureBv3,featureBv4,featureBv5])\n",
        "\n",
        "print(ClassB)"
      ],
      "execution_count": null,
      "outputs": [
        {
          "output_type": "stream",
          "name": "stdout",
          "text": [
            "[[240.         242.         244.         ... 184.66666667 180.\n",
            "  184.        ]\n",
            " [ 61.          60.66666667  61.66666667 ...  72.66666667  70.66666667\n",
            "   68.66666667]\n",
            " [202.33333333 202.33333333 202.33333333 ... 113.33333333  70.33333333\n",
            "   80.33333333]\n",
            " [238.66666667 240.66666667 242.66666667 ... 225.33333333 224.66666667\n",
            "  184.66666667]\n",
            " [233.         232.         231.         ...  23.          15.\n",
            "    8.        ]]\n",
            "[[164.33333333 163.33333333 162.33333333 ... 210.66666667 212.66666667\n",
            "  214.66666667]\n",
            " [130.         130.         130.         ...  96.33333333 122.66666667\n",
            "  103.66666667]\n",
            " [242.         245.         246.         ... 192.66666667 196.33333333\n",
            "  199.33333333]\n",
            " [121.66666667 119.66666667 117.66666667 ... 113.66666667 113.66666667\n",
            "   74.66666667]\n",
            " [208.33333333 211.33333333 211.33333333 ... 102.          86.\n",
            "   90.33333333]]\n"
          ]
        }
      ]
    },
    {
      "cell_type": "code",
      "metadata": {
        "colab": {
          "base_uri": "https://localhost:8080/"
        },
        "id": "hAn9eIi6-r1P",
        "outputId": "38ad05da-3d6f-4196-ce49-c3c927ff61da"
      },
      "source": [
        "meanAv1=featureAv1.mean(axis=0)\n",
        "meanAv2=featureAv2.mean(axis=0)\n",
        "meanAv3=featureAv3.mean(axis=0)\n",
        "meanAv4=featureAv4.mean(axis=0)\n",
        "meanAv5=featureAv5.mean(axis=0)\n",
        "\n",
        "ClassA_label=np.array([meanAv1,meanAv2,meanAv3,meanAv4,meanAv5])\n",
        "print(ClassA_label)\n",
        "\n",
        "meanBv1=featureBv1.mean(axis=0)\n",
        "meanBv2=featureBv2.mean(axis=0)\n",
        "meanBv3=featureBv3.mean(axis=0)\n",
        "meanBv4=featureBv4.mean(axis=0)\n",
        "meanBv5=featureBv5.mean(axis=0)\n",
        "\n",
        "ClassB_label=np.array([meanBv1,meanBv2,meanBv3,meanBv4,meanBv5])\n",
        "print(ClassB_label)\n",
        "\n",
        "# for i in range(0,5):\n",
        "#   if ClassA_label[i]<100:\n",
        "#     ClassA_label[i]=0\n",
        "#   else:\n",
        "#     ClassA_label[i]=1\n",
        "\n",
        "for i in range(0,5):\n",
        "  if ClassA_label[i]<95:\n",
        "    ClassA_label[i]=-1\n",
        "  elif ClassA_label[i]<110:\n",
        "    ClassA_label[i]=0\n",
        "  else:\n",
        "    ClassA_label[i]=1\n",
        "\n",
        "for i in range(0,5):\n",
        "  if ClassB_label[i]<95:\n",
        "    ClassB_label[i]=-1\n",
        "  elif ClassB_label[i]<110:\n",
        "    ClassB_label[i]=0\n",
        "  else:\n",
        "    ClassB_label[i]=1\n",
        "\n",
        "print(ClassA_label)\n",
        "print(ClassB_label)"
      ],
      "execution_count": null,
      "outputs": [
        {
          "output_type": "stream",
          "name": "stdout",
          "text": [
            "[146.08732605  84.6669515  109.73945618 122.08019511 127.38117981]\n",
            "[127.17301432  92.02892049 119.04534403  90.80475871 106.46661886]\n",
            "[ 1. -1.  0.  1.  1.]\n",
            "[ 1. -1.  1. -1.  0.]\n"
          ]
        }
      ]
    },
    {
      "cell_type": "code",
      "metadata": {
        "colab": {
          "base_uri": "https://localhost:8080/"
        },
        "id": "5aEex5NUAFUW",
        "outputId": "77259496-65a7-4951-f486-f20a95f3be0c"
      },
      "source": [
        "Class=np.concatenate((ClassA,ClassB),axis=0)\n",
        "print(Class)\n",
        "\n",
        "Class_label=np.concatenate((ClassA_label,ClassB_label),axis=0)\n",
        "print(Class_label)"
      ],
      "execution_count": null,
      "outputs": [
        {
          "output_type": "stream",
          "name": "stdout",
          "text": [
            "[[240.         242.         244.         ... 184.66666667 180.\n",
            "  184.        ]\n",
            " [ 61.          60.66666667  61.66666667 ...  72.66666667  70.66666667\n",
            "   68.66666667]\n",
            " [202.33333333 202.33333333 202.33333333 ... 113.33333333  70.33333333\n",
            "   80.33333333]\n",
            " ...\n",
            " [242.         245.         246.         ... 192.66666667 196.33333333\n",
            "  199.33333333]\n",
            " [121.66666667 119.66666667 117.66666667 ... 113.66666667 113.66666667\n",
            "   74.66666667]\n",
            " [208.33333333 211.33333333 211.33333333 ... 102.          86.\n",
            "   90.33333333]]\n",
            "[ 1. -1.  0.  1.  1.  1. -1.  1. -1.  0.]\n"
          ]
        }
      ]
    },
    {
      "cell_type": "code",
      "metadata": {
        "id": "BXofi-zM-7FP"
      },
      "source": [
        "import numpy as np\n",
        "from sklearn.model_selection import train_test_split\n",
        "X_train, X_test, y_train, y_test = train_test_split(Class, Class_label, test_size=0.2)\n"
      ],
      "execution_count": null,
      "outputs": []
    },
    {
      "cell_type": "code",
      "metadata": {
        "colab": {
          "base_uri": "https://localhost:8080/"
        },
        "id": "ztuLXPZq_InY",
        "outputId": "155f63cc-3c93-462c-c2a4-eb20ec9a3b5e"
      },
      "source": [
        "import matplotlib.pyplot as plt\n",
        "import numpy as np\n",
        "from sklearn import datasets, linear_model\n",
        "from sklearn.metrics import mean_squared_error, r2_score\n",
        "\n",
        "regr = linear_model.LinearRegression()\n",
        "\n",
        "regr.fit(X_train, y_train)\n",
        "\n",
        "diabetes_y_pred = regr.predict(X_test)\n",
        "\n",
        "print('Coefficients: \\n', regr.coef_)\n",
        "print('Mean squared error: %.2f'% mean_squared_error(y_test, diabetes_y_pred))\n",
        "\n",
        "print('Coefficient of determination: %.2f'% r2_score(y_test, diabetes_y_pred))\n",
        "\n"
      ],
      "execution_count": null,
      "outputs": [
        {
          "output_type": "stream",
          "name": "stdout",
          "text": [
            "Coefficients: \n",
            " [ 5.36168934e-05  2.27358603e-05 -6.02057655e-06 ... -3.05581350e-07\n",
            " -5.70147018e-07 -3.04089483e-08]\n",
            "Mean squared error: 0.04\n",
            "Coefficient of determination: 0.83\n"
          ]
        }
      ]
    },
    {
      "cell_type": "markdown",
      "metadata": {
        "id": "mRQkfviFs1T3"
      },
      "source": [
        "A3. Study all the parameters and attributes associated with linear regression model. \n"
      ]
    },
    {
      "cell_type": "markdown",
      "metadata": {
        "id": "ACqMDqO0G4rt"
      },
      "source": [
        "There is coefficients, Mean squared error, Coefficients of determination as the output of the linear regression model. Mean square error is the sum of the squares of the distance from the linear prediction plot."
      ]
    },
    {
      "cell_type": "markdown",
      "metadata": {
        "id": "4dLWf2ess67J"
      },
      "source": [
        "A4. Using the training set available for your project, train a logistic regression classifier. Use this \n",
        "classifier to evaluate your test set accuracy. Study the various parameters associated with logistic \n",
        "regression model and the role they play in the model training."
      ]
    },
    {
      "cell_type": "code",
      "metadata": {
        "id": "zPuoj8rMs9C5",
        "colab": {
          "base_uri": "https://localhost:8080/"
        },
        "outputId": "72d30007-3513-4c26-ef16-28c6155ee563"
      },
      "source": [
        "from sklearn.datasets import load_iris\n",
        "from sklearn.linear_model import LogisticRegression\n",
        "\n",
        "clf = LogisticRegression(random_state=0).fit(X_train, y_train)\n",
        "clf.predict(X_train[:2, :])\n",
        "\n",
        "\n"
      ],
      "execution_count": null,
      "outputs": [
        {
          "output_type": "execute_result",
          "data": {
            "text/plain": [
              "array([0., 1.])"
            ]
          },
          "metadata": {},
          "execution_count": 32
        }
      ]
    },
    {
      "cell_type": "code",
      "metadata": {
        "colab": {
          "base_uri": "https://localhost:8080/"
        },
        "id": "Lgu_ujT7I90R",
        "outputId": "cb099a90-9314-4e2e-e126-e7f33055f3f4"
      },
      "source": [
        "clf.predict_proba(X_train[:2, :])"
      ],
      "execution_count": null,
      "outputs": [
        {
          "output_type": "execute_result",
          "data": {
            "text/plain": [
              "array([[3.95840855e-07, 9.99999604e-01, 6.60622116e-14],\n",
              "       [2.76602292e-09, 9.15203778e-12, 9.99999997e-01]])"
            ]
          },
          "metadata": {},
          "execution_count": 33
        }
      ]
    },
    {
      "cell_type": "code",
      "metadata": {
        "colab": {
          "base_uri": "https://localhost:8080/"
        },
        "id": "R-g3PMEvI6ua",
        "outputId": "3915d08a-0c18-471a-cf07-d4b779d89672"
      },
      "source": [
        "clf.score(X_train, y_train)"
      ],
      "execution_count": null,
      "outputs": [
        {
          "output_type": "execute_result",
          "data": {
            "text/plain": [
              "1.0"
            ]
          },
          "metadata": {},
          "execution_count": 34
        }
      ]
    }
  ]
}